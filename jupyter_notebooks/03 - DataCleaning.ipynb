{
 "cells": [
  {
   "cell_type": "markdown",
   "metadata": {
    "id": "0aStgWSO0E0E"
   },
   "source": [
    "# Data Cleaning Notebook"
   ]
  },
  {
   "cell_type": "markdown",
   "metadata": {
    "id": "1eLEkw5O0ECa"
   },
   "source": [
    "## Objectives\n",
    "\n",
    "*   Evaluate missing data\n",
    "*   Clean data\n",
    "\n",
    "## Inputs\n",
    "\n",
    "* outputs/datasets/collection/TelcoCustomerChurn.csv\n",
    "\n",
    "## Outputs\n",
    "\n",
    "* Generate cleaned Train and Test sets, both saved under outputs/datasets/cleaned\n",
    "\n",
    "## Conclusions\n",
    "\n",
    " \n",
    "  * Data Cleaning Pipeline\n",
    "  * Drop Variables:  `['customerID', 'TotalCharges' ]`\n",
    "\n"
   ]
  },
  {
   "cell_type": "markdown",
   "metadata": {
    "id": "kspgyffxear-"
   },
   "source": [
    "---\n"
   ]
  },
  {
   "cell_type": "markdown",
   "metadata": {},
   "source": [
    "# Change working directory"
   ]
  },
  {
   "cell_type": "markdown",
   "metadata": {},
   "source": [
    "We need to change the working directory from its current folder to its parent folder\n",
    "* We access the current directory with os.getcwd()"
   ]
  },
  {
   "cell_type": "code",
   "execution_count": 1,
   "metadata": {},
   "outputs": [
    {
     "data": {
      "text/plain": [
       "'c:\\\\Users\\\\purpk\\\\OneDrive\\\\Documents\\\\Coding\\\\churnometer\\\\churnometer\\\\jupyter_notebooks'"
      ]
     },
     "execution_count": 1,
     "metadata": {},
     "output_type": "execute_result"
    }
   ],
   "source": [
    "import os\n",
    "current_dir = os.getcwd()\n",
    "current_dir"
   ]
  },
  {
   "cell_type": "markdown",
   "metadata": {},
   "source": [
    "We want to make the parent of the current directory the new current directory\n",
    "* os.path.dirname() gets the parent directory\n",
    "* os.chir() defines the new current directory"
   ]
  },
  {
   "cell_type": "code",
   "execution_count": 2,
   "metadata": {},
   "outputs": [
    {
     "name": "stdout",
     "output_type": "stream",
     "text": [
      "You set a new current directory\n"
     ]
    }
   ],
   "source": [
    "os.chdir(os.path.dirname(current_dir))\n",
    "print(\"You set a new current directory\")"
   ]
  },
  {
   "cell_type": "markdown",
   "metadata": {},
   "source": [
    "Confirm the new current directory"
   ]
  },
  {
   "cell_type": "code",
   "execution_count": 3,
   "metadata": {},
   "outputs": [
    {
     "data": {
      "text/plain": [
       "'c:\\\\Users\\\\purpk\\\\OneDrive\\\\Documents\\\\Coding\\\\churnometer\\\\churnometer'"
      ]
     },
     "execution_count": 3,
     "metadata": {},
     "output_type": "execute_result"
    }
   ],
   "source": [
    "current_dir = os.getcwd()\n",
    "current_dir"
   ]
  },
  {
   "cell_type": "markdown",
   "metadata": {
    "id": "_tdAGw4Zwssu"
   },
   "source": [
    "---"
   ]
  },
  {
   "cell_type": "markdown",
   "metadata": {
    "id": "-mavJ8DibrcQ"
   },
   "source": [
    "# Load Collected data"
   ]
  },
  {
   "cell_type": "code",
   "execution_count": 4,
   "metadata": {
    "colab": {
     "base_uri": "https://localhost:8080/"
    },
    "id": "C2ELZj83tF1g",
    "outputId": "d51e2567-7f6c-4200-b9c2-d4982d22e6fd"
   },
   "outputs": [
    {
     "data": {
      "text/html": [
       "<div>\n",
       "<style scoped>\n",
       "    .dataframe tbody tr th:only-of-type {\n",
       "        vertical-align: middle;\n",
       "    }\n",
       "\n",
       "    .dataframe tbody tr th {\n",
       "        vertical-align: top;\n",
       "    }\n",
       "\n",
       "    .dataframe thead th {\n",
       "        text-align: right;\n",
       "    }\n",
       "</style>\n",
       "<table border=\"1\" class=\"dataframe\">\n",
       "  <thead>\n",
       "    <tr style=\"text-align: right;\">\n",
       "      <th></th>\n",
       "      <th>customerID</th>\n",
       "      <th>gender</th>\n",
       "      <th>SeniorCitizen</th>\n",
       "      <th>Partner</th>\n",
       "      <th>Dependents</th>\n",
       "      <th>tenure</th>\n",
       "      <th>PhoneService</th>\n",
       "      <th>MultipleLines</th>\n",
       "      <th>InternetService</th>\n",
       "      <th>OnlineSecurity</th>\n",
       "      <th>...</th>\n",
       "      <th>DeviceProtection</th>\n",
       "      <th>TechSupport</th>\n",
       "      <th>StreamingTV</th>\n",
       "      <th>StreamingMovies</th>\n",
       "      <th>Contract</th>\n",
       "      <th>PaperlessBilling</th>\n",
       "      <th>PaymentMethod</th>\n",
       "      <th>MonthlyCharges</th>\n",
       "      <th>TotalCharges</th>\n",
       "      <th>Churn</th>\n",
       "    </tr>\n",
       "  </thead>\n",
       "  <tbody>\n",
       "    <tr>\n",
       "      <th>0</th>\n",
       "      <td>7590-VHVEG</td>\n",
       "      <td>Female</td>\n",
       "      <td>0</td>\n",
       "      <td>Yes</td>\n",
       "      <td>No</td>\n",
       "      <td>1</td>\n",
       "      <td>No</td>\n",
       "      <td>No phone service</td>\n",
       "      <td>DSL</td>\n",
       "      <td>No</td>\n",
       "      <td>...</td>\n",
       "      <td>No</td>\n",
       "      <td>No</td>\n",
       "      <td>No</td>\n",
       "      <td>No</td>\n",
       "      <td>Month-to-month</td>\n",
       "      <td>Yes</td>\n",
       "      <td>Electronic check</td>\n",
       "      <td>29.85</td>\n",
       "      <td>29.85</td>\n",
       "      <td>0</td>\n",
       "    </tr>\n",
       "    <tr>\n",
       "      <th>1</th>\n",
       "      <td>5575-GNVDE</td>\n",
       "      <td>Male</td>\n",
       "      <td>0</td>\n",
       "      <td>No</td>\n",
       "      <td>No</td>\n",
       "      <td>34</td>\n",
       "      <td>Yes</td>\n",
       "      <td>No</td>\n",
       "      <td>DSL</td>\n",
       "      <td>Yes</td>\n",
       "      <td>...</td>\n",
       "      <td>Yes</td>\n",
       "      <td>No</td>\n",
       "      <td>No</td>\n",
       "      <td>No</td>\n",
       "      <td>One year</td>\n",
       "      <td>No</td>\n",
       "      <td>Mailed check</td>\n",
       "      <td>56.95</td>\n",
       "      <td>1889.50</td>\n",
       "      <td>0</td>\n",
       "    </tr>\n",
       "    <tr>\n",
       "      <th>2</th>\n",
       "      <td>3668-QPYBK</td>\n",
       "      <td>Male</td>\n",
       "      <td>0</td>\n",
       "      <td>No</td>\n",
       "      <td>No</td>\n",
       "      <td>2</td>\n",
       "      <td>Yes</td>\n",
       "      <td>No</td>\n",
       "      <td>DSL</td>\n",
       "      <td>Yes</td>\n",
       "      <td>...</td>\n",
       "      <td>No</td>\n",
       "      <td>No</td>\n",
       "      <td>No</td>\n",
       "      <td>No</td>\n",
       "      <td>Month-to-month</td>\n",
       "      <td>Yes</td>\n",
       "      <td>Mailed check</td>\n",
       "      <td>53.85</td>\n",
       "      <td>108.15</td>\n",
       "      <td>1</td>\n",
       "    </tr>\n",
       "  </tbody>\n",
       "</table>\n",
       "<p>3 rows × 21 columns</p>\n",
       "</div>"
      ],
      "text/plain": [
       "   customerID  gender  SeniorCitizen Partner Dependents  tenure PhoneService  \\\n",
       "0  7590-VHVEG  Female              0     Yes         No       1           No   \n",
       "1  5575-GNVDE    Male              0      No         No      34          Yes   \n",
       "2  3668-QPYBK    Male              0      No         No       2          Yes   \n",
       "\n",
       "      MultipleLines InternetService OnlineSecurity  ... DeviceProtection  \\\n",
       "0  No phone service             DSL             No  ...               No   \n",
       "1                No             DSL            Yes  ...              Yes   \n",
       "2                No             DSL            Yes  ...               No   \n",
       "\n",
       "  TechSupport StreamingTV StreamingMovies        Contract PaperlessBilling  \\\n",
       "0          No          No              No  Month-to-month              Yes   \n",
       "1          No          No              No        One year               No   \n",
       "2          No          No              No  Month-to-month              Yes   \n",
       "\n",
       "      PaymentMethod MonthlyCharges  TotalCharges  Churn  \n",
       "0  Electronic check          29.85         29.85      0  \n",
       "1      Mailed check          56.95       1889.50      0  \n",
       "2      Mailed check          53.85        108.15      1  \n",
       "\n",
       "[3 rows x 21 columns]"
      ]
     },
     "execution_count": 4,
     "metadata": {},
     "output_type": "execute_result"
    }
   ],
   "source": [
    "import pandas as pd\n",
    "df_raw_path = \"outputs/datasets/collection/TelcoCustomerChurn.csv\"\n",
    "df = pd.read_csv(df_raw_path)\n",
    "df.head(3)"
   ]
  },
  {
   "cell_type": "markdown",
   "metadata": {
    "id": "Iue5e5GJ_vZg"
   },
   "source": [
    "# Data Exploration"
   ]
  },
  {
   "cell_type": "markdown",
   "metadata": {
    "id": "QhWelcb_17dw"
   },
   "source": [
    "In Data Cleaning you are interested to check the distribution and shape of a variable with missing data."
   ]
  },
  {
   "cell_type": "code",
   "execution_count": 5,
   "metadata": {},
   "outputs": [
    {
     "data": {
      "text/plain": [
       "['TotalCharges']"
      ]
     },
     "execution_count": 5,
     "metadata": {},
     "output_type": "execute_result"
    }
   ],
   "source": [
    "vars_with_missing_data = df.columns[df.isna().sum() > 0].to_list()\n",
    "vars_with_missing_data"
   ]
  },
  {
   "cell_type": "code",
   "execution_count": 7,
   "metadata": {},
   "outputs": [
    {
     "name": "stdout",
     "output_type": "stream",
     "text": [
      "Package                   Version\n",
      "------------------------- -----------\n",
      "altair                    5.5.0\n",
      "annotated-types           0.7.0\n",
      "asttokens                 3.0.0\n",
      "attrs                     25.3.0\n",
      "blinker                   1.9.0\n",
      "cachetools                5.5.2\n",
      "certifi                   2025.4.26\n",
      "charset-normalizer        3.4.2\n",
      "click                     8.2.0\n",
      "colorama                  0.4.6\n",
      "comm                      0.2.2\n",
      "contourpy                 1.3.2\n",
      "cycler                    0.12.1\n",
      "dacite                    1.9.2\n",
      "debugpy                   1.8.14\n",
      "decorator                 5.2.1\n",
      "executing                 2.2.0\n",
      "feature-engine            1.6.1\n",
      "fonttools                 4.58.0\n",
      "gitdb                     4.0.12\n",
      "GitPython                 3.1.44\n",
      "htmlmin                   0.1.12\n",
      "idna                      3.10\n",
      "ImageHash                 4.3.1\n",
      "imbalanced-learn          0.11.0\n",
      "ipykernel                 6.29.5\n",
      "ipython                   9.2.0\n",
      "ipython_pygments_lexers   1.1.1\n",
      "jedi                      0.19.2\n",
      "Jinja2                    3.1.6\n",
      "joblib                    1.5.0\n",
      "jsonschema                4.23.0\n",
      "jsonschema-specifications 2025.4.1\n",
      "jupyter_client            8.6.3\n",
      "jupyter_core              5.7.2\n",
      "kiwisolver                1.4.8\n",
      "llvmlite                  0.44.0\n",
      "markdown-it-py            3.0.0\n",
      "MarkupSafe                3.0.2\n",
      "matplotlib                3.8.0\n",
      "matplotlib-inline         0.1.7\n",
      "mdurl                     0.1.2\n",
      "multimethod               1.12\n",
      "narwhals                  1.39.0\n",
      "nest-asyncio              1.6.0\n",
      "networkx                  3.4.2\n",
      "numba                     0.61.2\n",
      "numpy                     1.26.1\n",
      "packaging                 24.2\n",
      "pandas                    2.1.1\n",
      "parso                     0.8.4\n",
      "patsy                     1.0.1\n",
      "phik                      0.12.4\n",
      "Pillow                    10.0.1\n",
      "pip                       25.1.1\n",
      "platformdirs              4.3.8\n",
      "plotly                    5.17.0\n",
      "ppscore                   1.1.0\n",
      "prompt_toolkit            3.0.51\n",
      "protobuf                  5.29.4\n",
      "psutil                    7.0.0\n",
      "pure_eval                 0.2.3\n",
      "pyarrow                   20.0.0\n",
      "pydantic                  2.11.4\n",
      "pydantic_core             2.33.2\n",
      "pydeck                    0.9.1\n",
      "Pygments                  2.19.1\n",
      "pyparsing                 3.2.3\n",
      "python-dateutil           2.9.0.post0\n",
      "pytz                      2025.2\n",
      "PyWavelets                1.8.0\n",
      "pywin32                   310\n",
      "PyYAML                    6.0.2\n",
      "pyzmq                     26.4.0\n",
      "referencing               0.36.2\n",
      "requests                  2.32.3\n",
      "rich                      13.9.4\n",
      "rpds-py                   0.24.0\n",
      "scikit-learn              1.3.1\n",
      "scipy                     1.13.1\n",
      "seaborn                   0.13.2\n",
      "six                       1.17.0\n",
      "smmap                     5.0.2\n",
      "stack-data                0.6.3\n",
      "statsmodels               0.14.4\n",
      "streamlit                 1.40.2\n",
      "tenacity                  9.1.2\n",
      "threadpoolctl             3.6.0\n",
      "toml                      0.10.2\n",
      "tornado                   6.4.2\n",
      "tqdm                      4.67.1\n",
      "traitlets                 5.14.3\n",
      "typeguard                 4.4.2\n",
      "typing_extensions         4.13.2\n",
      "typing-inspection         0.4.0\n",
      "tzdata                    2025.2\n",
      "urllib3                   2.4.0\n",
      "visions                   0.7.6\n",
      "watchdog                  6.0.0\n",
      "wcwidth                   0.2.13\n",
      "wordcloud                 1.9.4\n",
      "xgboost                   1.7.6\n",
      "ydata-profiling           4.12.0\n",
      "yellowbrick               1.5\n",
      "Note: you may need to restart the kernel to use updated packages.\n"
     ]
    }
   ],
   "source": [
    "pip list"
   ]
  },
  {
   "cell_type": "code",
   "execution_count": 9,
   "metadata": {
    "id": "oyi3gi2-_q1j"
   },
   "outputs": [
    {
     "name": "stderr",
     "output_type": "stream",
     "text": [
      "c:\\Users\\purpk\\OneDrive\\Documents\\Coding\\churnometer\\.venv\\Lib\\site-packages\\tqdm\\auto.py:21: TqdmWarning: IProgress not found. Please update jupyter and ipywidgets. See https://ipywidgets.readthedocs.io/en/stable/user_install.html\n",
      "  from .autonotebook import tqdm as notebook_tqdm\n",
      "c:\\Users\\purpk\\OneDrive\\Documents\\Coding\\churnometer\\.venv\\Lib\\site-packages\\ydata_profiling\\utils\\dataframe.py:137: SettingWithCopyWarning: \n",
      "A value is trying to be set on a copy of a slice from a DataFrame\n",
      "\n",
      "See the caveats in the documentation: https://pandas.pydata.org/pandas-docs/stable/user_guide/indexing.html#returning-a-view-versus-a-copy\n",
      "  df.rename(columns={\"index\": \"df_index\"}, inplace=True)\n",
      "Summarize dataset: 100%|██████████| 7/7 [00:00<00:00, 146.73it/s, Completed]               \n",
      "Generate report structure: 100%|██████████| 1/1 [00:00<00:00,  1.90it/s]\n",
      "Render HTML: 100%|██████████| 1/1 [00:00<00:00,  6.02it/s]\n",
      "Export report to file: 100%|██████████| 1/1 [00:00<00:00, 401.41it/s]\n"
     ]
    }
   ],
   "source": [
    "from ydata_profiling import ProfileReport\n",
    "import webbrowser\n",
    "if vars_with_missing_data:\n",
    "    profile = ProfileReport(df=df[vars_with_missing_data], minimal=True)\n",
    "    profile.to_file(\"profile_report.html\")\n",
    "    webbrowser.open(\"profile_report.html\")  \n",
    "else:\n",
    "    print(\"There are no variables with missing data\")\n"
   ]
  },
  {
   "cell_type": "markdown",
   "metadata": {
    "id": "LvwabO0JsmYW"
   },
   "source": [
    "# Correlation and PPS Analysis"
   ]
  },
  {
   "cell_type": "code",
   "execution_count": 10,
   "metadata": {
    "id": "g6Zy_MglsmYo"
   },
   "outputs": [],
   "source": [
    "import numpy as np\n",
    "import matplotlib.pyplot as plt\n",
    "import seaborn as sns\n",
    "import ppscore as pps\n",
    "\n",
    "\n",
    "def heatmap_corr(df, threshold, figsize=(20, 12), font_annot=8):\n",
    "    if len(df.columns) > 1:\n",
    "        mask = np.zeros_like(df, dtype=bool)\n",
    "        mask[np.triu_indices_from(mask)] = True\n",
    "        mask[abs(df) < threshold] = True\n",
    "\n",
    "        fig, axes = plt.subplots(figsize=figsize)\n",
    "        sns.heatmap(df, annot=True, xticklabels=True, yticklabels=True,\n",
    "                    mask=mask, cmap='viridis', annot_kws={\"size\": font_annot}, ax=axes,\n",
    "                    linewidth=0.5\n",
    "                    )\n",
    "        axes.set_yticklabels(df.columns, rotation=0)\n",
    "        plt.ylim(len(df.columns), 0)\n",
    "        plt.show()\n",
    "\n",
    "\n",
    "def heatmap_pps(df, threshold, figsize=(20, 12), font_annot=8):\n",
    "    if len(df.columns) > 1:\n",
    "        mask = np.zeros_like(df, dtype=bool)\n",
    "        mask[abs(df) < threshold] = True\n",
    "        fig, ax = plt.subplots(figsize=figsize)\n",
    "        ax = sns.heatmap(df, annot=True, xticklabels=True, yticklabels=True,\n",
    "                         mask=mask, cmap='rocket_r', annot_kws={\"size\": font_annot},\n",
    "                         linewidth=0.05, linecolor='grey')\n",
    "        plt.ylim(len(df.columns), 0)\n",
    "        plt.show()\n",
    "\n",
    "\n",
    "def CalculateCorrAndPPS(df):\n",
    "    df_corr_spearman = df.corr(method=\"spearman\", numeric_only=True)\n",
    "    df_corr_pearson = df.corr(method=\"pearson\", numeric_only=True)\n",
    "\n",
    "    pps_matrix_raw = pps.matrix(df)\n",
    "    pps_matrix = pps_matrix_raw.filter(['x', 'y', 'ppscore']).pivot(columns='x', index='y', values='ppscore')\n",
    "\n",
    "    pps_score_stats = pps_matrix_raw.query(\"ppscore < 1\").filter(['ppscore']).describe().T\n",
    "    print(\"PPS threshold - check PPS score IQR to decide threshold for heatmap \\n\")\n",
    "    print(pps_score_stats.round(3))\n",
    "\n",
    "    return df_corr_pearson, df_corr_spearman, pps_matrix\n",
    "\n",
    "\n",
    "def DisplayCorrAndPPS(df_corr_pearson, df_corr_spearman, pps_matrix, CorrThreshold, PPS_Threshold,\n",
    "                      figsize=(20, 12), font_annot=8):\n",
    "\n",
    "    print(\"\\n\")\n",
    "    print(\"* Analyse how the target variable for your ML models are correlated with other variables (features and target)\")\n",
    "    print(\"* Analyse multi-colinearity, that is, how the features are correlated among themselves\")\n",
    "\n",
    "    print(\"\\n\")\n",
    "    print(\"*** Heatmap: Spearman Correlation ***\")\n",
    "    print(\"It evaluates monotonic relationship \\n\")\n",
    "    heatmap_corr(df=df_corr_spearman, threshold=CorrThreshold, figsize=figsize, font_annot=font_annot)\n",
    "\n",
    "    print(\"\\n\")\n",
    "    print(\"*** Heatmap: Pearson Correlation ***\")\n",
    "    print(\"It evaluates the linear relationship between two continuous variables \\n\")\n",
    "    heatmap_corr(df=df_corr_pearson, threshold=CorrThreshold, figsize=figsize, font_annot=font_annot)\n",
    "\n",
    "    print(\"\\n\")\n",
    "    print(\"*** Heatmap: Power Predictive Score (PPS) ***\")\n",
    "    print(f\"PPS detects linear or non-linear relationships between two columns.\\n\"\n",
    "          f\"The score ranges from 0 (no predictive power) to 1 (perfect predictive power) \\n\")\n",
    "    heatmap_pps(df=pps_matrix, threshold=PPS_Threshold, figsize=figsize, font_annot=font_annot)\n"
   ]
  },
  {
   "cell_type": "markdown",
   "metadata": {
    "id": "ryNo1VnXSK9K"
   },
   "source": [
    "Calculate Correlations and Power Predictive Score"
   ]
  },
  {
   "cell_type": "code",
   "execution_count": 11,
   "metadata": {
    "colab": {
     "base_uri": "https://localhost:8080/"
    },
    "id": "3_Z4SXf6GbED",
    "outputId": "6978dbde-ebb0-4023-af6c-b6f896ced798"
   },
   "outputs": [
    {
     "name": "stderr",
     "output_type": "stream",
     "text": [
      "c:\\Users\\purpk\\OneDrive\\Documents\\Coding\\churnometer\\.venv\\Lib\\site-packages\\ppscore\\calculation.py:201: FutureWarning: is_categorical_dtype is deprecated and will be removed in a future version. Use isinstance(dtype, CategoricalDtype) instead\n",
      "  or is_categorical_dtype(series)\n",
      "c:\\Users\\purpk\\OneDrive\\Documents\\Coding\\churnometer\\.venv\\Lib\\site-packages\\ppscore\\calculation.py:201: FutureWarning: is_categorical_dtype is deprecated and will be removed in a future version. Use isinstance(dtype, CategoricalDtype) instead\n",
      "  or is_categorical_dtype(series)\n",
      "c:\\Users\\purpk\\OneDrive\\Documents\\Coding\\churnometer\\.venv\\Lib\\site-packages\\ppscore\\calculation.py:201: FutureWarning: is_categorical_dtype is deprecated and will be removed in a future version. Use isinstance(dtype, CategoricalDtype) instead\n",
      "  or is_categorical_dtype(series)\n",
      "c:\\Users\\purpk\\OneDrive\\Documents\\Coding\\churnometer\\.venv\\Lib\\site-packages\\ppscore\\calculation.py:201: FutureWarning: is_categorical_dtype is deprecated and will be removed in a future version. Use isinstance(dtype, CategoricalDtype) instead\n",
      "  or is_categorical_dtype(series)\n",
      "c:\\Users\\purpk\\OneDrive\\Documents\\Coding\\churnometer\\.venv\\Lib\\site-packages\\ppscore\\calculation.py:201: FutureWarning: is_categorical_dtype is deprecated and will be removed in a future version. Use isinstance(dtype, CategoricalDtype) instead\n",
      "  or is_categorical_dtype(series)\n",
      "c:\\Users\\purpk\\OneDrive\\Documents\\Coding\\churnometer\\.venv\\Lib\\site-packages\\ppscore\\calculation.py:201: FutureWarning: is_categorical_dtype is deprecated and will be removed in a future version. Use isinstance(dtype, CategoricalDtype) instead\n",
      "  or is_categorical_dtype(series)\n",
      "c:\\Users\\purpk\\OneDrive\\Documents\\Coding\\churnometer\\.venv\\Lib\\site-packages\\ppscore\\calculation.py:201: FutureWarning: is_categorical_dtype is deprecated and will be removed in a future version. Use isinstance(dtype, CategoricalDtype) instead\n",
      "  or is_categorical_dtype(series)\n",
      "c:\\Users\\purpk\\OneDrive\\Documents\\Coding\\churnometer\\.venv\\Lib\\site-packages\\ppscore\\calculation.py:201: FutureWarning: is_categorical_dtype is deprecated and will be removed in a future version. Use isinstance(dtype, CategoricalDtype) instead\n",
      "  or is_categorical_dtype(series)\n",
      "c:\\Users\\purpk\\OneDrive\\Documents\\Coding\\churnometer\\.venv\\Lib\\site-packages\\ppscore\\calculation.py:201: FutureWarning: is_categorical_dtype is deprecated and will be removed in a future version. Use isinstance(dtype, CategoricalDtype) instead\n",
      "  or is_categorical_dtype(series)\n",
      "c:\\Users\\purpk\\OneDrive\\Documents\\Coding\\churnometer\\.venv\\Lib\\site-packages\\ppscore\\calculation.py:201: FutureWarning: is_categorical_dtype is deprecated and will be removed in a future version. Use isinstance(dtype, CategoricalDtype) instead\n",
      "  or is_categorical_dtype(series)\n",
      "c:\\Users\\purpk\\OneDrive\\Documents\\Coding\\churnometer\\.venv\\Lib\\site-packages\\ppscore\\calculation.py:201: FutureWarning: is_categorical_dtype is deprecated and will be removed in a future version. Use isinstance(dtype, CategoricalDtype) instead\n",
      "  or is_categorical_dtype(series)\n",
      "c:\\Users\\purpk\\OneDrive\\Documents\\Coding\\churnometer\\.venv\\Lib\\site-packages\\ppscore\\calculation.py:201: FutureWarning: is_categorical_dtype is deprecated and will be removed in a future version. Use isinstance(dtype, CategoricalDtype) instead\n",
      "  or is_categorical_dtype(series)\n",
      "c:\\Users\\purpk\\OneDrive\\Documents\\Coding\\churnometer\\.venv\\Lib\\site-packages\\ppscore\\calculation.py:201: FutureWarning: is_categorical_dtype is deprecated and will be removed in a future version. Use isinstance(dtype, CategoricalDtype) instead\n",
      "  or is_categorical_dtype(series)\n",
      "c:\\Users\\purpk\\OneDrive\\Documents\\Coding\\churnometer\\.venv\\Lib\\site-packages\\ppscore\\calculation.py:201: FutureWarning: is_categorical_dtype is deprecated and will be removed in a future version. Use isinstance(dtype, CategoricalDtype) instead\n",
      "  or is_categorical_dtype(series)\n",
      "c:\\Users\\purpk\\OneDrive\\Documents\\Coding\\churnometer\\.venv\\Lib\\site-packages\\ppscore\\calculation.py:201: FutureWarning: is_categorical_dtype is deprecated and will be removed in a future version. Use isinstance(dtype, CategoricalDtype) instead\n",
      "  or is_categorical_dtype(series)\n",
      "c:\\Users\\purpk\\OneDrive\\Documents\\Coding\\churnometer\\.venv\\Lib\\site-packages\\ppscore\\calculation.py:201: FutureWarning: is_categorical_dtype is deprecated and will be removed in a future version. Use isinstance(dtype, CategoricalDtype) instead\n",
      "  or is_categorical_dtype(series)\n",
      "c:\\Users\\purpk\\OneDrive\\Documents\\Coding\\churnometer\\.venv\\Lib\\site-packages\\ppscore\\calculation.py:201: FutureWarning: is_categorical_dtype is deprecated and will be removed in a future version. Use isinstance(dtype, CategoricalDtype) instead\n",
      "  or is_categorical_dtype(series)\n",
      "c:\\Users\\purpk\\OneDrive\\Documents\\Coding\\churnometer\\.venv\\Lib\\site-packages\\ppscore\\calculation.py:201: FutureWarning: is_categorical_dtype is deprecated and will be removed in a future version. Use isinstance(dtype, CategoricalDtype) instead\n",
      "  or is_categorical_dtype(series)\n",
      "c:\\Users\\purpk\\OneDrive\\Documents\\Coding\\churnometer\\.venv\\Lib\\site-packages\\ppscore\\calculation.py:201: FutureWarning: is_categorical_dtype is deprecated and will be removed in a future version. Use isinstance(dtype, CategoricalDtype) instead\n",
      "  or is_categorical_dtype(series)\n",
      "c:\\Users\\purpk\\OneDrive\\Documents\\Coding\\churnometer\\.venv\\Lib\\site-packages\\ppscore\\calculation.py:201: FutureWarning: is_categorical_dtype is deprecated and will be removed in a future version. Use isinstance(dtype, CategoricalDtype) instead\n",
      "  or is_categorical_dtype(series)\n",
      "c:\\Users\\purpk\\OneDrive\\Documents\\Coding\\churnometer\\.venv\\Lib\\site-packages\\ppscore\\calculation.py:201: FutureWarning: is_categorical_dtype is deprecated and will be removed in a future version. Use isinstance(dtype, CategoricalDtype) instead\n",
      "  or is_categorical_dtype(series)\n",
      "c:\\Users\\purpk\\OneDrive\\Documents\\Coding\\churnometer\\.venv\\Lib\\site-packages\\ppscore\\calculation.py:201: FutureWarning: is_categorical_dtype is deprecated and will be removed in a future version. Use isinstance(dtype, CategoricalDtype) instead\n",
      "  or is_categorical_dtype(series)\n",
      "c:\\Users\\purpk\\OneDrive\\Documents\\Coding\\churnometer\\.venv\\Lib\\site-packages\\ppscore\\calculation.py:201: FutureWarning: is_categorical_dtype is deprecated and will be removed in a future version. Use isinstance(dtype, CategoricalDtype) instead\n",
      "  or is_categorical_dtype(series)\n",
      "c:\\Users\\purpk\\OneDrive\\Documents\\Coding\\churnometer\\.venv\\Lib\\site-packages\\ppscore\\calculation.py:201: FutureWarning: is_categorical_dtype is deprecated and will be removed in a future version. Use isinstance(dtype, CategoricalDtype) instead\n",
      "  or is_categorical_dtype(series)\n",
      "c:\\Users\\purpk\\OneDrive\\Documents\\Coding\\churnometer\\.venv\\Lib\\site-packages\\ppscore\\calculation.py:201: FutureWarning: is_categorical_dtype is deprecated and will be removed in a future version. Use isinstance(dtype, CategoricalDtype) instead\n",
      "  or is_categorical_dtype(series)\n",
      "c:\\Users\\purpk\\OneDrive\\Documents\\Coding\\churnometer\\.venv\\Lib\\site-packages\\ppscore\\calculation.py:201: FutureWarning: is_categorical_dtype is deprecated and will be removed in a future version. Use isinstance(dtype, CategoricalDtype) instead\n",
      "  or is_categorical_dtype(series)\n",
      "c:\\Users\\purpk\\OneDrive\\Documents\\Coding\\churnometer\\.venv\\Lib\\site-packages\\ppscore\\calculation.py:201: FutureWarning: is_categorical_dtype is deprecated and will be removed in a future version. Use isinstance(dtype, CategoricalDtype) instead\n",
      "  or is_categorical_dtype(series)\n",
      "c:\\Users\\purpk\\OneDrive\\Documents\\Coding\\churnometer\\.venv\\Lib\\site-packages\\ppscore\\calculation.py:201: FutureWarning: is_categorical_dtype is deprecated and will be removed in a future version. Use isinstance(dtype, CategoricalDtype) instead\n",
      "  or is_categorical_dtype(series)\n",
      "c:\\Users\\purpk\\OneDrive\\Documents\\Coding\\churnometer\\.venv\\Lib\\site-packages\\ppscore\\calculation.py:201: FutureWarning: is_categorical_dtype is deprecated and will be removed in a future version. Use isinstance(dtype, CategoricalDtype) instead\n",
      "  or is_categorical_dtype(series)\n",
      "c:\\Users\\purpk\\OneDrive\\Documents\\Coding\\churnometer\\.venv\\Lib\\site-packages\\ppscore\\calculation.py:201: FutureWarning: is_categorical_dtype is deprecated and will be removed in a future version. Use isinstance(dtype, CategoricalDtype) instead\n",
      "  or is_categorical_dtype(series)\n",
      "c:\\Users\\purpk\\OneDrive\\Documents\\Coding\\churnometer\\.venv\\Lib\\site-packages\\ppscore\\calculation.py:201: FutureWarning: is_categorical_dtype is deprecated and will be removed in a future version. Use isinstance(dtype, CategoricalDtype) instead\n",
      "  or is_categorical_dtype(series)\n",
      "c:\\Users\\purpk\\OneDrive\\Documents\\Coding\\churnometer\\.venv\\Lib\\site-packages\\ppscore\\calculation.py:201: FutureWarning: is_categorical_dtype is deprecated and will be removed in a future version. Use isinstance(dtype, CategoricalDtype) instead\n",
      "  or is_categorical_dtype(series)\n",
      "c:\\Users\\purpk\\OneDrive\\Documents\\Coding\\churnometer\\.venv\\Lib\\site-packages\\ppscore\\calculation.py:201: FutureWarning: is_categorical_dtype is deprecated and will be removed in a future version. Use isinstance(dtype, CategoricalDtype) instead\n",
      "  or is_categorical_dtype(series)\n",
      "c:\\Users\\purpk\\OneDrive\\Documents\\Coding\\churnometer\\.venv\\Lib\\site-packages\\ppscore\\calculation.py:201: FutureWarning: is_categorical_dtype is deprecated and will be removed in a future version. Use isinstance(dtype, CategoricalDtype) instead\n",
      "  or is_categorical_dtype(series)\n",
      "c:\\Users\\purpk\\OneDrive\\Documents\\Coding\\churnometer\\.venv\\Lib\\site-packages\\ppscore\\calculation.py:201: FutureWarning: is_categorical_dtype is deprecated and will be removed in a future version. Use isinstance(dtype, CategoricalDtype) instead\n",
      "  or is_categorical_dtype(series)\n",
      "c:\\Users\\purpk\\OneDrive\\Documents\\Coding\\churnometer\\.venv\\Lib\\site-packages\\ppscore\\calculation.py:201: FutureWarning: is_categorical_dtype is deprecated and will be removed in a future version. Use isinstance(dtype, CategoricalDtype) instead\n",
      "  or is_categorical_dtype(series)\n",
      "c:\\Users\\purpk\\OneDrive\\Documents\\Coding\\churnometer\\.venv\\Lib\\site-packages\\ppscore\\calculation.py:201: FutureWarning: is_categorical_dtype is deprecated and will be removed in a future version. Use isinstance(dtype, CategoricalDtype) instead\n",
      "  or is_categorical_dtype(series)\n",
      "c:\\Users\\purpk\\OneDrive\\Documents\\Coding\\churnometer\\.venv\\Lib\\site-packages\\ppscore\\calculation.py:201: FutureWarning: is_categorical_dtype is deprecated and will be removed in a future version. Use isinstance(dtype, CategoricalDtype) instead\n",
      "  or is_categorical_dtype(series)\n",
      "c:\\Users\\purpk\\OneDrive\\Documents\\Coding\\churnometer\\.venv\\Lib\\site-packages\\ppscore\\calculation.py:201: FutureWarning: is_categorical_dtype is deprecated and will be removed in a future version. Use isinstance(dtype, CategoricalDtype) instead\n",
      "  or is_categorical_dtype(series)\n",
      "c:\\Users\\purpk\\OneDrive\\Documents\\Coding\\churnometer\\.venv\\Lib\\site-packages\\ppscore\\calculation.py:201: FutureWarning: is_categorical_dtype is deprecated and will be removed in a future version. Use isinstance(dtype, CategoricalDtype) instead\n",
      "  or is_categorical_dtype(series)\n",
      "c:\\Users\\purpk\\OneDrive\\Documents\\Coding\\churnometer\\.venv\\Lib\\site-packages\\ppscore\\calculation.py:201: FutureWarning: is_categorical_dtype is deprecated and will be removed in a future version. Use isinstance(dtype, CategoricalDtype) instead\n",
      "  or is_categorical_dtype(series)\n",
      "c:\\Users\\purpk\\OneDrive\\Documents\\Coding\\churnometer\\.venv\\Lib\\site-packages\\ppscore\\calculation.py:201: FutureWarning: is_categorical_dtype is deprecated and will be removed in a future version. Use isinstance(dtype, CategoricalDtype) instead\n",
      "  or is_categorical_dtype(series)\n",
      "c:\\Users\\purpk\\OneDrive\\Documents\\Coding\\churnometer\\.venv\\Lib\\site-packages\\ppscore\\calculation.py:201: FutureWarning: is_categorical_dtype is deprecated and will be removed in a future version. Use isinstance(dtype, CategoricalDtype) instead\n",
      "  or is_categorical_dtype(series)\n",
      "c:\\Users\\purpk\\OneDrive\\Documents\\Coding\\churnometer\\.venv\\Lib\\site-packages\\ppscore\\calculation.py:201: FutureWarning: is_categorical_dtype is deprecated and will be removed in a future version. Use isinstance(dtype, CategoricalDtype) instead\n",
      "  or is_categorical_dtype(series)\n",
      "c:\\Users\\purpk\\OneDrive\\Documents\\Coding\\churnometer\\.venv\\Lib\\site-packages\\ppscore\\calculation.py:201: FutureWarning: is_categorical_dtype is deprecated and will be removed in a future version. Use isinstance(dtype, CategoricalDtype) instead\n",
      "  or is_categorical_dtype(series)\n",
      "c:\\Users\\purpk\\OneDrive\\Documents\\Coding\\churnometer\\.venv\\Lib\\site-packages\\ppscore\\calculation.py:201: FutureWarning: is_categorical_dtype is deprecated and will be removed in a future version. Use isinstance(dtype, CategoricalDtype) instead\n",
      "  or is_categorical_dtype(series)\n",
      "c:\\Users\\purpk\\OneDrive\\Documents\\Coding\\churnometer\\.venv\\Lib\\site-packages\\ppscore\\calculation.py:201: FutureWarning: is_categorical_dtype is deprecated and will be removed in a future version. Use isinstance(dtype, CategoricalDtype) instead\n",
      "  or is_categorical_dtype(series)\n",
      "c:\\Users\\purpk\\OneDrive\\Documents\\Coding\\churnometer\\.venv\\Lib\\site-packages\\ppscore\\calculation.py:201: FutureWarning: is_categorical_dtype is deprecated and will be removed in a future version. Use isinstance(dtype, CategoricalDtype) instead\n",
      "  or is_categorical_dtype(series)\n",
      "c:\\Users\\purpk\\OneDrive\\Documents\\Coding\\churnometer\\.venv\\Lib\\site-packages\\ppscore\\calculation.py:201: FutureWarning: is_categorical_dtype is deprecated and will be removed in a future version. Use isinstance(dtype, CategoricalDtype) instead\n",
      "  or is_categorical_dtype(series)\n",
      "c:\\Users\\purpk\\OneDrive\\Documents\\Coding\\churnometer\\.venv\\Lib\\site-packages\\ppscore\\calculation.py:201: FutureWarning: is_categorical_dtype is deprecated and will be removed in a future version. Use isinstance(dtype, CategoricalDtype) instead\n",
      "  or is_categorical_dtype(series)\n",
      "c:\\Users\\purpk\\OneDrive\\Documents\\Coding\\churnometer\\.venv\\Lib\\site-packages\\ppscore\\calculation.py:201: FutureWarning: is_categorical_dtype is deprecated and will be removed in a future version. Use isinstance(dtype, CategoricalDtype) instead\n",
      "  or is_categorical_dtype(series)\n",
      "c:\\Users\\purpk\\OneDrive\\Documents\\Coding\\churnometer\\.venv\\Lib\\site-packages\\ppscore\\calculation.py:201: FutureWarning: is_categorical_dtype is deprecated and will be removed in a future version. Use isinstance(dtype, CategoricalDtype) instead\n",
      "  or is_categorical_dtype(series)\n",
      "c:\\Users\\purpk\\OneDrive\\Documents\\Coding\\churnometer\\.venv\\Lib\\site-packages\\ppscore\\calculation.py:201: FutureWarning: is_categorical_dtype is deprecated and will be removed in a future version. Use isinstance(dtype, CategoricalDtype) instead\n",
      "  or is_categorical_dtype(series)\n",
      "c:\\Users\\purpk\\OneDrive\\Documents\\Coding\\churnometer\\.venv\\Lib\\site-packages\\ppscore\\calculation.py:201: FutureWarning: is_categorical_dtype is deprecated and will be removed in a future version. Use isinstance(dtype, CategoricalDtype) instead\n",
      "  or is_categorical_dtype(series)\n",
      "c:\\Users\\purpk\\OneDrive\\Documents\\Coding\\churnometer\\.venv\\Lib\\site-packages\\ppscore\\calculation.py:201: FutureWarning: is_categorical_dtype is deprecated and will be removed in a future version. Use isinstance(dtype, CategoricalDtype) instead\n",
      "  or is_categorical_dtype(series)\n",
      "c:\\Users\\purpk\\OneDrive\\Documents\\Coding\\churnometer\\.venv\\Lib\\site-packages\\ppscore\\calculation.py:201: FutureWarning: is_categorical_dtype is deprecated and will be removed in a future version. Use isinstance(dtype, CategoricalDtype) instead\n",
      "  or is_categorical_dtype(series)\n",
      "c:\\Users\\purpk\\OneDrive\\Documents\\Coding\\churnometer\\.venv\\Lib\\site-packages\\ppscore\\calculation.py:201: FutureWarning: is_categorical_dtype is deprecated and will be removed in a future version. Use isinstance(dtype, CategoricalDtype) instead\n",
      "  or is_categorical_dtype(series)\n",
      "c:\\Users\\purpk\\OneDrive\\Documents\\Coding\\churnometer\\.venv\\Lib\\site-packages\\ppscore\\calculation.py:201: FutureWarning: is_categorical_dtype is deprecated and will be removed in a future version. Use isinstance(dtype, CategoricalDtype) instead\n",
      "  or is_categorical_dtype(series)\n",
      "c:\\Users\\purpk\\OneDrive\\Documents\\Coding\\churnometer\\.venv\\Lib\\site-packages\\ppscore\\calculation.py:201: FutureWarning: is_categorical_dtype is deprecated and will be removed in a future version. Use isinstance(dtype, CategoricalDtype) instead\n",
      "  or is_categorical_dtype(series)\n",
      "c:\\Users\\purpk\\OneDrive\\Documents\\Coding\\churnometer\\.venv\\Lib\\site-packages\\ppscore\\calculation.py:201: FutureWarning: is_categorical_dtype is deprecated and will be removed in a future version. Use isinstance(dtype, CategoricalDtype) instead\n",
      "  or is_categorical_dtype(series)\n",
      "c:\\Users\\purpk\\OneDrive\\Documents\\Coding\\churnometer\\.venv\\Lib\\site-packages\\ppscore\\calculation.py:201: FutureWarning: is_categorical_dtype is deprecated and will be removed in a future version. Use isinstance(dtype, CategoricalDtype) instead\n",
      "  or is_categorical_dtype(series)\n",
      "c:\\Users\\purpk\\OneDrive\\Documents\\Coding\\churnometer\\.venv\\Lib\\site-packages\\ppscore\\calculation.py:201: FutureWarning: is_categorical_dtype is deprecated and will be removed in a future version. Use isinstance(dtype, CategoricalDtype) instead\n",
      "  or is_categorical_dtype(series)\n",
      "c:\\Users\\purpk\\OneDrive\\Documents\\Coding\\churnometer\\.venv\\Lib\\site-packages\\ppscore\\calculation.py:201: FutureWarning: is_categorical_dtype is deprecated and will be removed in a future version. Use isinstance(dtype, CategoricalDtype) instead\n",
      "  or is_categorical_dtype(series)\n",
      "c:\\Users\\purpk\\OneDrive\\Documents\\Coding\\churnometer\\.venv\\Lib\\site-packages\\ppscore\\calculation.py:201: FutureWarning: is_categorical_dtype is deprecated and will be removed in a future version. Use isinstance(dtype, CategoricalDtype) instead\n",
      "  or is_categorical_dtype(series)\n",
      "c:\\Users\\purpk\\OneDrive\\Documents\\Coding\\churnometer\\.venv\\Lib\\site-packages\\ppscore\\calculation.py:201: FutureWarning: is_categorical_dtype is deprecated and will be removed in a future version. Use isinstance(dtype, CategoricalDtype) instead\n",
      "  or is_categorical_dtype(series)\n",
      "c:\\Users\\purpk\\OneDrive\\Documents\\Coding\\churnometer\\.venv\\Lib\\site-packages\\ppscore\\calculation.py:201: FutureWarning: is_categorical_dtype is deprecated and will be removed in a future version. Use isinstance(dtype, CategoricalDtype) instead\n",
      "  or is_categorical_dtype(series)\n",
      "c:\\Users\\purpk\\OneDrive\\Documents\\Coding\\churnometer\\.venv\\Lib\\site-packages\\ppscore\\calculation.py:201: FutureWarning: is_categorical_dtype is deprecated and will be removed in a future version. Use isinstance(dtype, CategoricalDtype) instead\n",
      "  or is_categorical_dtype(series)\n",
      "c:\\Users\\purpk\\OneDrive\\Documents\\Coding\\churnometer\\.venv\\Lib\\site-packages\\ppscore\\calculation.py:201: FutureWarning: is_categorical_dtype is deprecated and will be removed in a future version. Use isinstance(dtype, CategoricalDtype) instead\n",
      "  or is_categorical_dtype(series)\n",
      "c:\\Users\\purpk\\OneDrive\\Documents\\Coding\\churnometer\\.venv\\Lib\\site-packages\\ppscore\\calculation.py:201: FutureWarning: is_categorical_dtype is deprecated and will be removed in a future version. Use isinstance(dtype, CategoricalDtype) instead\n",
      "  or is_categorical_dtype(series)\n",
      "c:\\Users\\purpk\\OneDrive\\Documents\\Coding\\churnometer\\.venv\\Lib\\site-packages\\ppscore\\calculation.py:201: FutureWarning: is_categorical_dtype is deprecated and will be removed in a future version. Use isinstance(dtype, CategoricalDtype) instead\n",
      "  or is_categorical_dtype(series)\n",
      "c:\\Users\\purpk\\OneDrive\\Documents\\Coding\\churnometer\\.venv\\Lib\\site-packages\\ppscore\\calculation.py:201: FutureWarning: is_categorical_dtype is deprecated and will be removed in a future version. Use isinstance(dtype, CategoricalDtype) instead\n",
      "  or is_categorical_dtype(series)\n",
      "c:\\Users\\purpk\\OneDrive\\Documents\\Coding\\churnometer\\.venv\\Lib\\site-packages\\ppscore\\calculation.py:201: FutureWarning: is_categorical_dtype is deprecated and will be removed in a future version. Use isinstance(dtype, CategoricalDtype) instead\n",
      "  or is_categorical_dtype(series)\n",
      "c:\\Users\\purpk\\OneDrive\\Documents\\Coding\\churnometer\\.venv\\Lib\\site-packages\\ppscore\\calculation.py:201: FutureWarning: is_categorical_dtype is deprecated and will be removed in a future version. Use isinstance(dtype, CategoricalDtype) instead\n",
      "  or is_categorical_dtype(series)\n",
      "c:\\Users\\purpk\\OneDrive\\Documents\\Coding\\churnometer\\.venv\\Lib\\site-packages\\ppscore\\calculation.py:201: FutureWarning: is_categorical_dtype is deprecated and will be removed in a future version. Use isinstance(dtype, CategoricalDtype) instead\n",
      "  or is_categorical_dtype(series)\n",
      "c:\\Users\\purpk\\OneDrive\\Documents\\Coding\\churnometer\\.venv\\Lib\\site-packages\\ppscore\\calculation.py:201: FutureWarning: is_categorical_dtype is deprecated and will be removed in a future version. Use isinstance(dtype, CategoricalDtype) instead\n",
      "  or is_categorical_dtype(series)\n",
      "c:\\Users\\purpk\\OneDrive\\Documents\\Coding\\churnometer\\.venv\\Lib\\site-packages\\ppscore\\calculation.py:201: FutureWarning: is_categorical_dtype is deprecated and will be removed in a future version. Use isinstance(dtype, CategoricalDtype) instead\n",
      "  or is_categorical_dtype(series)\n",
      "c:\\Users\\purpk\\OneDrive\\Documents\\Coding\\churnometer\\.venv\\Lib\\site-packages\\ppscore\\calculation.py:201: FutureWarning: is_categorical_dtype is deprecated and will be removed in a future version. Use isinstance(dtype, CategoricalDtype) instead\n",
      "  or is_categorical_dtype(series)\n",
      "c:\\Users\\purpk\\OneDrive\\Documents\\Coding\\churnometer\\.venv\\Lib\\site-packages\\ppscore\\calculation.py:201: FutureWarning: is_categorical_dtype is deprecated and will be removed in a future version. Use isinstance(dtype, CategoricalDtype) instead\n",
      "  or is_categorical_dtype(series)\n",
      "c:\\Users\\purpk\\OneDrive\\Documents\\Coding\\churnometer\\.venv\\Lib\\site-packages\\ppscore\\calculation.py:201: FutureWarning: is_categorical_dtype is deprecated and will be removed in a future version. Use isinstance(dtype, CategoricalDtype) instead\n",
      "  or is_categorical_dtype(series)\n",
      "c:\\Users\\purpk\\OneDrive\\Documents\\Coding\\churnometer\\.venv\\Lib\\site-packages\\ppscore\\calculation.py:201: FutureWarning: is_categorical_dtype is deprecated and will be removed in a future version. Use isinstance(dtype, CategoricalDtype) instead\n",
      "  or is_categorical_dtype(series)\n",
      "c:\\Users\\purpk\\OneDrive\\Documents\\Coding\\churnometer\\.venv\\Lib\\site-packages\\ppscore\\calculation.py:201: FutureWarning: is_categorical_dtype is deprecated and will be removed in a future version. Use isinstance(dtype, CategoricalDtype) instead\n",
      "  or is_categorical_dtype(series)\n",
      "c:\\Users\\purpk\\OneDrive\\Documents\\Coding\\churnometer\\.venv\\Lib\\site-packages\\ppscore\\calculation.py:201: FutureWarning: is_categorical_dtype is deprecated and will be removed in a future version. Use isinstance(dtype, CategoricalDtype) instead\n",
      "  or is_categorical_dtype(series)\n",
      "c:\\Users\\purpk\\OneDrive\\Documents\\Coding\\churnometer\\.venv\\Lib\\site-packages\\ppscore\\calculation.py:201: FutureWarning: is_categorical_dtype is deprecated and will be removed in a future version. Use isinstance(dtype, CategoricalDtype) instead\n",
      "  or is_categorical_dtype(series)\n",
      "c:\\Users\\purpk\\OneDrive\\Documents\\Coding\\churnometer\\.venv\\Lib\\site-packages\\ppscore\\calculation.py:201: FutureWarning: is_categorical_dtype is deprecated and will be removed in a future version. Use isinstance(dtype, CategoricalDtype) instead\n",
      "  or is_categorical_dtype(series)\n",
      "c:\\Users\\purpk\\OneDrive\\Documents\\Coding\\churnometer\\.venv\\Lib\\site-packages\\ppscore\\calculation.py:201: FutureWarning: is_categorical_dtype is deprecated and will be removed in a future version. Use isinstance(dtype, CategoricalDtype) instead\n",
      "  or is_categorical_dtype(series)\n",
      "c:\\Users\\purpk\\OneDrive\\Documents\\Coding\\churnometer\\.venv\\Lib\\site-packages\\ppscore\\calculation.py:201: FutureWarning: is_categorical_dtype is deprecated and will be removed in a future version. Use isinstance(dtype, CategoricalDtype) instead\n",
      "  or is_categorical_dtype(series)\n",
      "c:\\Users\\purpk\\OneDrive\\Documents\\Coding\\churnometer\\.venv\\Lib\\site-packages\\ppscore\\calculation.py:201: FutureWarning: is_categorical_dtype is deprecated and will be removed in a future version. Use isinstance(dtype, CategoricalDtype) instead\n",
      "  or is_categorical_dtype(series)\n",
      "c:\\Users\\purpk\\OneDrive\\Documents\\Coding\\churnometer\\.venv\\Lib\\site-packages\\ppscore\\calculation.py:201: FutureWarning: is_categorical_dtype is deprecated and will be removed in a future version. Use isinstance(dtype, CategoricalDtype) instead\n",
      "  or is_categorical_dtype(series)\n",
      "c:\\Users\\purpk\\OneDrive\\Documents\\Coding\\churnometer\\.venv\\Lib\\site-packages\\ppscore\\calculation.py:201: FutureWarning: is_categorical_dtype is deprecated and will be removed in a future version. Use isinstance(dtype, CategoricalDtype) instead\n",
      "  or is_categorical_dtype(series)\n",
      "c:\\Users\\purpk\\OneDrive\\Documents\\Coding\\churnometer\\.venv\\Lib\\site-packages\\ppscore\\calculation.py:201: FutureWarning: is_categorical_dtype is deprecated and will be removed in a future version. Use isinstance(dtype, CategoricalDtype) instead\n",
      "  or is_categorical_dtype(series)\n",
      "c:\\Users\\purpk\\OneDrive\\Documents\\Coding\\churnometer\\.venv\\Lib\\site-packages\\ppscore\\calculation.py:201: FutureWarning: is_categorical_dtype is deprecated and will be removed in a future version. Use isinstance(dtype, CategoricalDtype) instead\n",
      "  or is_categorical_dtype(series)\n",
      "c:\\Users\\purpk\\OneDrive\\Documents\\Coding\\churnometer\\.venv\\Lib\\site-packages\\ppscore\\calculation.py:201: FutureWarning: is_categorical_dtype is deprecated and will be removed in a future version. Use isinstance(dtype, CategoricalDtype) instead\n",
      "  or is_categorical_dtype(series)\n",
      "c:\\Users\\purpk\\OneDrive\\Documents\\Coding\\churnometer\\.venv\\Lib\\site-packages\\ppscore\\calculation.py:201: FutureWarning: is_categorical_dtype is deprecated and will be removed in a future version. Use isinstance(dtype, CategoricalDtype) instead\n",
      "  or is_categorical_dtype(series)\n",
      "c:\\Users\\purpk\\OneDrive\\Documents\\Coding\\churnometer\\.venv\\Lib\\site-packages\\ppscore\\calculation.py:201: FutureWarning: is_categorical_dtype is deprecated and will be removed in a future version. Use isinstance(dtype, CategoricalDtype) instead\n",
      "  or is_categorical_dtype(series)\n",
      "c:\\Users\\purpk\\OneDrive\\Documents\\Coding\\churnometer\\.venv\\Lib\\site-packages\\ppscore\\calculation.py:201: FutureWarning: is_categorical_dtype is deprecated and will be removed in a future version. Use isinstance(dtype, CategoricalDtype) instead\n",
      "  or is_categorical_dtype(series)\n",
      "c:\\Users\\purpk\\OneDrive\\Documents\\Coding\\churnometer\\.venv\\Lib\\site-packages\\ppscore\\calculation.py:201: FutureWarning: is_categorical_dtype is deprecated and will be removed in a future version. Use isinstance(dtype, CategoricalDtype) instead\n",
      "  or is_categorical_dtype(series)\n",
      "c:\\Users\\purpk\\OneDrive\\Documents\\Coding\\churnometer\\.venv\\Lib\\site-packages\\ppscore\\calculation.py:201: FutureWarning: is_categorical_dtype is deprecated and will be removed in a future version. Use isinstance(dtype, CategoricalDtype) instead\n",
      "  or is_categorical_dtype(series)\n",
      "c:\\Users\\purpk\\OneDrive\\Documents\\Coding\\churnometer\\.venv\\Lib\\site-packages\\ppscore\\calculation.py:201: FutureWarning: is_categorical_dtype is deprecated and will be removed in a future version. Use isinstance(dtype, CategoricalDtype) instead\n",
      "  or is_categorical_dtype(series)\n",
      "c:\\Users\\purpk\\OneDrive\\Documents\\Coding\\churnometer\\.venv\\Lib\\site-packages\\ppscore\\calculation.py:201: FutureWarning: is_categorical_dtype is deprecated and will be removed in a future version. Use isinstance(dtype, CategoricalDtype) instead\n",
      "  or is_categorical_dtype(series)\n",
      "c:\\Users\\purpk\\OneDrive\\Documents\\Coding\\churnometer\\.venv\\Lib\\site-packages\\ppscore\\calculation.py:201: FutureWarning: is_categorical_dtype is deprecated and will be removed in a future version. Use isinstance(dtype, CategoricalDtype) instead\n",
      "  or is_categorical_dtype(series)\n",
      "c:\\Users\\purpk\\OneDrive\\Documents\\Coding\\churnometer\\.venv\\Lib\\site-packages\\ppscore\\calculation.py:201: FutureWarning: is_categorical_dtype is deprecated and will be removed in a future version. Use isinstance(dtype, CategoricalDtype) instead\n",
      "  or is_categorical_dtype(series)\n",
      "c:\\Users\\purpk\\OneDrive\\Documents\\Coding\\churnometer\\.venv\\Lib\\site-packages\\ppscore\\calculation.py:201: FutureWarning: is_categorical_dtype is deprecated and will be removed in a future version. Use isinstance(dtype, CategoricalDtype) instead\n",
      "  or is_categorical_dtype(series)\n",
      "c:\\Users\\purpk\\OneDrive\\Documents\\Coding\\churnometer\\.venv\\Lib\\site-packages\\ppscore\\calculation.py:201: FutureWarning: is_categorical_dtype is deprecated and will be removed in a future version. Use isinstance(dtype, CategoricalDtype) instead\n",
      "  or is_categorical_dtype(series)\n",
      "c:\\Users\\purpk\\OneDrive\\Documents\\Coding\\churnometer\\.venv\\Lib\\site-packages\\ppscore\\calculation.py:201: FutureWarning: is_categorical_dtype is deprecated and will be removed in a future version. Use isinstance(dtype, CategoricalDtype) instead\n",
      "  or is_categorical_dtype(series)\n",
      "c:\\Users\\purpk\\OneDrive\\Documents\\Coding\\churnometer\\.venv\\Lib\\site-packages\\ppscore\\calculation.py:201: FutureWarning: is_categorical_dtype is deprecated and will be removed in a future version. Use isinstance(dtype, CategoricalDtype) instead\n",
      "  or is_categorical_dtype(series)\n",
      "c:\\Users\\purpk\\OneDrive\\Documents\\Coding\\churnometer\\.venv\\Lib\\site-packages\\ppscore\\calculation.py:201: FutureWarning: is_categorical_dtype is deprecated and will be removed in a future version. Use isinstance(dtype, CategoricalDtype) instead\n",
      "  or is_categorical_dtype(series)\n",
      "c:\\Users\\purpk\\OneDrive\\Documents\\Coding\\churnometer\\.venv\\Lib\\site-packages\\ppscore\\calculation.py:201: FutureWarning: is_categorical_dtype is deprecated and will be removed in a future version. Use isinstance(dtype, CategoricalDtype) instead\n",
      "  or is_categorical_dtype(series)\n",
      "c:\\Users\\purpk\\OneDrive\\Documents\\Coding\\churnometer\\.venv\\Lib\\site-packages\\ppscore\\calculation.py:201: FutureWarning: is_categorical_dtype is deprecated and will be removed in a future version. Use isinstance(dtype, CategoricalDtype) instead\n",
      "  or is_categorical_dtype(series)\n",
      "c:\\Users\\purpk\\OneDrive\\Documents\\Coding\\churnometer\\.venv\\Lib\\site-packages\\ppscore\\calculation.py:201: FutureWarning: is_categorical_dtype is deprecated and will be removed in a future version. Use isinstance(dtype, CategoricalDtype) instead\n",
      "  or is_categorical_dtype(series)\n",
      "c:\\Users\\purpk\\OneDrive\\Documents\\Coding\\churnometer\\.venv\\Lib\\site-packages\\ppscore\\calculation.py:201: FutureWarning: is_categorical_dtype is deprecated and will be removed in a future version. Use isinstance(dtype, CategoricalDtype) instead\n",
      "  or is_categorical_dtype(series)\n",
      "c:\\Users\\purpk\\OneDrive\\Documents\\Coding\\churnometer\\.venv\\Lib\\site-packages\\ppscore\\calculation.py:201: FutureWarning: is_categorical_dtype is deprecated and will be removed in a future version. Use isinstance(dtype, CategoricalDtype) instead\n",
      "  or is_categorical_dtype(series)\n",
      "c:\\Users\\purpk\\OneDrive\\Documents\\Coding\\churnometer\\.venv\\Lib\\site-packages\\ppscore\\calculation.py:201: FutureWarning: is_categorical_dtype is deprecated and will be removed in a future version. Use isinstance(dtype, CategoricalDtype) instead\n",
      "  or is_categorical_dtype(series)\n",
      "c:\\Users\\purpk\\OneDrive\\Documents\\Coding\\churnometer\\.venv\\Lib\\site-packages\\ppscore\\calculation.py:201: FutureWarning: is_categorical_dtype is deprecated and will be removed in a future version. Use isinstance(dtype, CategoricalDtype) instead\n",
      "  or is_categorical_dtype(series)\n",
      "c:\\Users\\purpk\\OneDrive\\Documents\\Coding\\churnometer\\.venv\\Lib\\site-packages\\ppscore\\calculation.py:201: FutureWarning: is_categorical_dtype is deprecated and will be removed in a future version. Use isinstance(dtype, CategoricalDtype) instead\n",
      "  or is_categorical_dtype(series)\n",
      "c:\\Users\\purpk\\OneDrive\\Documents\\Coding\\churnometer\\.venv\\Lib\\site-packages\\ppscore\\calculation.py:201: FutureWarning: is_categorical_dtype is deprecated and will be removed in a future version. Use isinstance(dtype, CategoricalDtype) instead\n",
      "  or is_categorical_dtype(series)\n",
      "c:\\Users\\purpk\\OneDrive\\Documents\\Coding\\churnometer\\.venv\\Lib\\site-packages\\ppscore\\calculation.py:201: FutureWarning: is_categorical_dtype is deprecated and will be removed in a future version. Use isinstance(dtype, CategoricalDtype) instead\n",
      "  or is_categorical_dtype(series)\n",
      "c:\\Users\\purpk\\OneDrive\\Documents\\Coding\\churnometer\\.venv\\Lib\\site-packages\\ppscore\\calculation.py:201: FutureWarning: is_categorical_dtype is deprecated and will be removed in a future version. Use isinstance(dtype, CategoricalDtype) instead\n",
      "  or is_categorical_dtype(series)\n",
      "c:\\Users\\purpk\\OneDrive\\Documents\\Coding\\churnometer\\.venv\\Lib\\site-packages\\ppscore\\calculation.py:201: FutureWarning: is_categorical_dtype is deprecated and will be removed in a future version. Use isinstance(dtype, CategoricalDtype) instead\n",
      "  or is_categorical_dtype(series)\n",
      "c:\\Users\\purpk\\OneDrive\\Documents\\Coding\\churnometer\\.venv\\Lib\\site-packages\\ppscore\\calculation.py:201: FutureWarning: is_categorical_dtype is deprecated and will be removed in a future version. Use isinstance(dtype, CategoricalDtype) instead\n",
      "  or is_categorical_dtype(series)\n",
      "c:\\Users\\purpk\\OneDrive\\Documents\\Coding\\churnometer\\.venv\\Lib\\site-packages\\ppscore\\calculation.py:201: FutureWarning: is_categorical_dtype is deprecated and will be removed in a future version. Use isinstance(dtype, CategoricalDtype) instead\n",
      "  or is_categorical_dtype(series)\n",
      "c:\\Users\\purpk\\OneDrive\\Documents\\Coding\\churnometer\\.venv\\Lib\\site-packages\\ppscore\\calculation.py:201: FutureWarning: is_categorical_dtype is deprecated and will be removed in a future version. Use isinstance(dtype, CategoricalDtype) instead\n",
      "  or is_categorical_dtype(series)\n",
      "c:\\Users\\purpk\\OneDrive\\Documents\\Coding\\churnometer\\.venv\\Lib\\site-packages\\ppscore\\calculation.py:201: FutureWarning: is_categorical_dtype is deprecated and will be removed in a future version. Use isinstance(dtype, CategoricalDtype) instead\n",
      "  or is_categorical_dtype(series)\n",
      "c:\\Users\\purpk\\OneDrive\\Documents\\Coding\\churnometer\\.venv\\Lib\\site-packages\\ppscore\\calculation.py:201: FutureWarning: is_categorical_dtype is deprecated and will be removed in a future version. Use isinstance(dtype, CategoricalDtype) instead\n",
      "  or is_categorical_dtype(series)\n",
      "c:\\Users\\purpk\\OneDrive\\Documents\\Coding\\churnometer\\.venv\\Lib\\site-packages\\ppscore\\calculation.py:201: FutureWarning: is_categorical_dtype is deprecated and will be removed in a future version. Use isinstance(dtype, CategoricalDtype) instead\n",
      "  or is_categorical_dtype(series)\n",
      "c:\\Users\\purpk\\OneDrive\\Documents\\Coding\\churnometer\\.venv\\Lib\\site-packages\\ppscore\\calculation.py:201: FutureWarning: is_categorical_dtype is deprecated and will be removed in a future version. Use isinstance(dtype, CategoricalDtype) instead\n",
      "  or is_categorical_dtype(series)\n",
      "c:\\Users\\purpk\\OneDrive\\Documents\\Coding\\churnometer\\.venv\\Lib\\site-packages\\ppscore\\calculation.py:201: FutureWarning: is_categorical_dtype is deprecated and will be removed in a future version. Use isinstance(dtype, CategoricalDtype) instead\n",
      "  or is_categorical_dtype(series)\n",
      "c:\\Users\\purpk\\OneDrive\\Documents\\Coding\\churnometer\\.venv\\Lib\\site-packages\\ppscore\\calculation.py:201: FutureWarning: is_categorical_dtype is deprecated and will be removed in a future version. Use isinstance(dtype, CategoricalDtype) instead\n",
      "  or is_categorical_dtype(series)\n",
      "c:\\Users\\purpk\\OneDrive\\Documents\\Coding\\churnometer\\.venv\\Lib\\site-packages\\ppscore\\calculation.py:201: FutureWarning: is_categorical_dtype is deprecated and will be removed in a future version. Use isinstance(dtype, CategoricalDtype) instead\n",
      "  or is_categorical_dtype(series)\n",
      "c:\\Users\\purpk\\OneDrive\\Documents\\Coding\\churnometer\\.venv\\Lib\\site-packages\\ppscore\\calculation.py:201: FutureWarning: is_categorical_dtype is deprecated and will be removed in a future version. Use isinstance(dtype, CategoricalDtype) instead\n",
      "  or is_categorical_dtype(series)\n",
      "c:\\Users\\purpk\\OneDrive\\Documents\\Coding\\churnometer\\.venv\\Lib\\site-packages\\ppscore\\calculation.py:201: FutureWarning: is_categorical_dtype is deprecated and will be removed in a future version. Use isinstance(dtype, CategoricalDtype) instead\n",
      "  or is_categorical_dtype(series)\n",
      "c:\\Users\\purpk\\OneDrive\\Documents\\Coding\\churnometer\\.venv\\Lib\\site-packages\\ppscore\\calculation.py:201: FutureWarning: is_categorical_dtype is deprecated and will be removed in a future version. Use isinstance(dtype, CategoricalDtype) instead\n",
      "  or is_categorical_dtype(series)\n",
      "c:\\Users\\purpk\\OneDrive\\Documents\\Coding\\churnometer\\.venv\\Lib\\site-packages\\ppscore\\calculation.py:201: FutureWarning: is_categorical_dtype is deprecated and will be removed in a future version. Use isinstance(dtype, CategoricalDtype) instead\n",
      "  or is_categorical_dtype(series)\n",
      "c:\\Users\\purpk\\OneDrive\\Documents\\Coding\\churnometer\\.venv\\Lib\\site-packages\\ppscore\\calculation.py:201: FutureWarning: is_categorical_dtype is deprecated and will be removed in a future version. Use isinstance(dtype, CategoricalDtype) instead\n",
      "  or is_categorical_dtype(series)\n",
      "c:\\Users\\purpk\\OneDrive\\Documents\\Coding\\churnometer\\.venv\\Lib\\site-packages\\ppscore\\calculation.py:201: FutureWarning: is_categorical_dtype is deprecated and will be removed in a future version. Use isinstance(dtype, CategoricalDtype) instead\n",
      "  or is_categorical_dtype(series)\n",
      "c:\\Users\\purpk\\OneDrive\\Documents\\Coding\\churnometer\\.venv\\Lib\\site-packages\\ppscore\\calculation.py:201: FutureWarning: is_categorical_dtype is deprecated and will be removed in a future version. Use isinstance(dtype, CategoricalDtype) instead\n",
      "  or is_categorical_dtype(series)\n",
      "c:\\Users\\purpk\\OneDrive\\Documents\\Coding\\churnometer\\.venv\\Lib\\site-packages\\ppscore\\calculation.py:201: FutureWarning: is_categorical_dtype is deprecated and will be removed in a future version. Use isinstance(dtype, CategoricalDtype) instead\n",
      "  or is_categorical_dtype(series)\n",
      "c:\\Users\\purpk\\OneDrive\\Documents\\Coding\\churnometer\\.venv\\Lib\\site-packages\\ppscore\\calculation.py:201: FutureWarning: is_categorical_dtype is deprecated and will be removed in a future version. Use isinstance(dtype, CategoricalDtype) instead\n",
      "  or is_categorical_dtype(series)\n",
      "c:\\Users\\purpk\\OneDrive\\Documents\\Coding\\churnometer\\.venv\\Lib\\site-packages\\ppscore\\calculation.py:201: FutureWarning: is_categorical_dtype is deprecated and will be removed in a future version. Use isinstance(dtype, CategoricalDtype) instead\n",
      "  or is_categorical_dtype(series)\n",
      "c:\\Users\\purpk\\OneDrive\\Documents\\Coding\\churnometer\\.venv\\Lib\\site-packages\\ppscore\\calculation.py:201: FutureWarning: is_categorical_dtype is deprecated and will be removed in a future version. Use isinstance(dtype, CategoricalDtype) instead\n",
      "  or is_categorical_dtype(series)\n",
      "c:\\Users\\purpk\\OneDrive\\Documents\\Coding\\churnometer\\.venv\\Lib\\site-packages\\ppscore\\calculation.py:201: FutureWarning: is_categorical_dtype is deprecated and will be removed in a future version. Use isinstance(dtype, CategoricalDtype) instead\n",
      "  or is_categorical_dtype(series)\n",
      "c:\\Users\\purpk\\OneDrive\\Documents\\Coding\\churnometer\\.venv\\Lib\\site-packages\\ppscore\\calculation.py:201: FutureWarning: is_categorical_dtype is deprecated and will be removed in a future version. Use isinstance(dtype, CategoricalDtype) instead\n",
      "  or is_categorical_dtype(series)\n",
      "c:\\Users\\purpk\\OneDrive\\Documents\\Coding\\churnometer\\.venv\\Lib\\site-packages\\ppscore\\calculation.py:201: FutureWarning: is_categorical_dtype is deprecated and will be removed in a future version. Use isinstance(dtype, CategoricalDtype) instead\n",
      "  or is_categorical_dtype(series)\n",
      "c:\\Users\\purpk\\OneDrive\\Documents\\Coding\\churnometer\\.venv\\Lib\\site-packages\\ppscore\\calculation.py:201: FutureWarning: is_categorical_dtype is deprecated and will be removed in a future version. Use isinstance(dtype, CategoricalDtype) instead\n",
      "  or is_categorical_dtype(series)\n",
      "c:\\Users\\purpk\\OneDrive\\Documents\\Coding\\churnometer\\.venv\\Lib\\site-packages\\ppscore\\calculation.py:201: FutureWarning: is_categorical_dtype is deprecated and will be removed in a future version. Use isinstance(dtype, CategoricalDtype) instead\n",
      "  or is_categorical_dtype(series)\n",
      "c:\\Users\\purpk\\OneDrive\\Documents\\Coding\\churnometer\\.venv\\Lib\\site-packages\\ppscore\\calculation.py:201: FutureWarning: is_categorical_dtype is deprecated and will be removed in a future version. Use isinstance(dtype, CategoricalDtype) instead\n",
      "  or is_categorical_dtype(series)\n",
      "c:\\Users\\purpk\\OneDrive\\Documents\\Coding\\churnometer\\.venv\\Lib\\site-packages\\ppscore\\calculation.py:201: FutureWarning: is_categorical_dtype is deprecated and will be removed in a future version. Use isinstance(dtype, CategoricalDtype) instead\n",
      "  or is_categorical_dtype(series)\n",
      "c:\\Users\\purpk\\OneDrive\\Documents\\Coding\\churnometer\\.venv\\Lib\\site-packages\\ppscore\\calculation.py:201: FutureWarning: is_categorical_dtype is deprecated and will be removed in a future version. Use isinstance(dtype, CategoricalDtype) instead\n",
      "  or is_categorical_dtype(series)\n",
      "c:\\Users\\purpk\\OneDrive\\Documents\\Coding\\churnometer\\.venv\\Lib\\site-packages\\ppscore\\calculation.py:201: FutureWarning: is_categorical_dtype is deprecated and will be removed in a future version. Use isinstance(dtype, CategoricalDtype) instead\n",
      "  or is_categorical_dtype(series)\n",
      "c:\\Users\\purpk\\OneDrive\\Documents\\Coding\\churnometer\\.venv\\Lib\\site-packages\\ppscore\\calculation.py:201: FutureWarning: is_categorical_dtype is deprecated and will be removed in a future version. Use isinstance(dtype, CategoricalDtype) instead\n",
      "  or is_categorical_dtype(series)\n",
      "c:\\Users\\purpk\\OneDrive\\Documents\\Coding\\churnometer\\.venv\\Lib\\site-packages\\ppscore\\calculation.py:201: FutureWarning: is_categorical_dtype is deprecated and will be removed in a future version. Use isinstance(dtype, CategoricalDtype) instead\n",
      "  or is_categorical_dtype(series)\n",
      "c:\\Users\\purpk\\OneDrive\\Documents\\Coding\\churnometer\\.venv\\Lib\\site-packages\\ppscore\\calculation.py:201: FutureWarning: is_categorical_dtype is deprecated and will be removed in a future version. Use isinstance(dtype, CategoricalDtype) instead\n",
      "  or is_categorical_dtype(series)\n",
      "c:\\Users\\purpk\\OneDrive\\Documents\\Coding\\churnometer\\.venv\\Lib\\site-packages\\ppscore\\calculation.py:201: FutureWarning: is_categorical_dtype is deprecated and will be removed in a future version. Use isinstance(dtype, CategoricalDtype) instead\n",
      "  or is_categorical_dtype(series)\n",
      "c:\\Users\\purpk\\OneDrive\\Documents\\Coding\\churnometer\\.venv\\Lib\\site-packages\\ppscore\\calculation.py:201: FutureWarning: is_categorical_dtype is deprecated and will be removed in a future version. Use isinstance(dtype, CategoricalDtype) instead\n",
      "  or is_categorical_dtype(series)\n",
      "c:\\Users\\purpk\\OneDrive\\Documents\\Coding\\churnometer\\.venv\\Lib\\site-packages\\ppscore\\calculation.py:201: FutureWarning: is_categorical_dtype is deprecated and will be removed in a future version. Use isinstance(dtype, CategoricalDtype) instead\n",
      "  or is_categorical_dtype(series)\n",
      "c:\\Users\\purpk\\OneDrive\\Documents\\Coding\\churnometer\\.venv\\Lib\\site-packages\\ppscore\\calculation.py:201: FutureWarning: is_categorical_dtype is deprecated and will be removed in a future version. Use isinstance(dtype, CategoricalDtype) instead\n",
      "  or is_categorical_dtype(series)\n",
      "c:\\Users\\purpk\\OneDrive\\Documents\\Coding\\churnometer\\.venv\\Lib\\site-packages\\ppscore\\calculation.py:201: FutureWarning: is_categorical_dtype is deprecated and will be removed in a future version. Use isinstance(dtype, CategoricalDtype) instead\n",
      "  or is_categorical_dtype(series)\n",
      "c:\\Users\\purpk\\OneDrive\\Documents\\Coding\\churnometer\\.venv\\Lib\\site-packages\\ppscore\\calculation.py:201: FutureWarning: is_categorical_dtype is deprecated and will be removed in a future version. Use isinstance(dtype, CategoricalDtype) instead\n",
      "  or is_categorical_dtype(series)\n",
      "c:\\Users\\purpk\\OneDrive\\Documents\\Coding\\churnometer\\.venv\\Lib\\site-packages\\ppscore\\calculation.py:201: FutureWarning: is_categorical_dtype is deprecated and will be removed in a future version. Use isinstance(dtype, CategoricalDtype) instead\n",
      "  or is_categorical_dtype(series)\n",
      "c:\\Users\\purpk\\OneDrive\\Documents\\Coding\\churnometer\\.venv\\Lib\\site-packages\\ppscore\\calculation.py:201: FutureWarning: is_categorical_dtype is deprecated and will be removed in a future version. Use isinstance(dtype, CategoricalDtype) instead\n",
      "  or is_categorical_dtype(series)\n",
      "c:\\Users\\purpk\\OneDrive\\Documents\\Coding\\churnometer\\.venv\\Lib\\site-packages\\ppscore\\calculation.py:201: FutureWarning: is_categorical_dtype is deprecated and will be removed in a future version. Use isinstance(dtype, CategoricalDtype) instead\n",
      "  or is_categorical_dtype(series)\n",
      "c:\\Users\\purpk\\OneDrive\\Documents\\Coding\\churnometer\\.venv\\Lib\\site-packages\\ppscore\\calculation.py:201: FutureWarning: is_categorical_dtype is deprecated and will be removed in a future version. Use isinstance(dtype, CategoricalDtype) instead\n",
      "  or is_categorical_dtype(series)\n",
      "c:\\Users\\purpk\\OneDrive\\Documents\\Coding\\churnometer\\.venv\\Lib\\site-packages\\ppscore\\calculation.py:201: FutureWarning: is_categorical_dtype is deprecated and will be removed in a future version. Use isinstance(dtype, CategoricalDtype) instead\n",
      "  or is_categorical_dtype(series)\n",
      "c:\\Users\\purpk\\OneDrive\\Documents\\Coding\\churnometer\\.venv\\Lib\\site-packages\\ppscore\\calculation.py:201: FutureWarning: is_categorical_dtype is deprecated and will be removed in a future version. Use isinstance(dtype, CategoricalDtype) instead\n",
      "  or is_categorical_dtype(series)\n",
      "c:\\Users\\purpk\\OneDrive\\Documents\\Coding\\churnometer\\.venv\\Lib\\site-packages\\ppscore\\calculation.py:201: FutureWarning: is_categorical_dtype is deprecated and will be removed in a future version. Use isinstance(dtype, CategoricalDtype) instead\n",
      "  or is_categorical_dtype(series)\n",
      "c:\\Users\\purpk\\OneDrive\\Documents\\Coding\\churnometer\\.venv\\Lib\\site-packages\\ppscore\\calculation.py:201: FutureWarning: is_categorical_dtype is deprecated and will be removed in a future version. Use isinstance(dtype, CategoricalDtype) instead\n",
      "  or is_categorical_dtype(series)\n",
      "c:\\Users\\purpk\\OneDrive\\Documents\\Coding\\churnometer\\.venv\\Lib\\site-packages\\ppscore\\calculation.py:201: FutureWarning: is_categorical_dtype is deprecated and will be removed in a future version. Use isinstance(dtype, CategoricalDtype) instead\n",
      "  or is_categorical_dtype(series)\n",
      "c:\\Users\\purpk\\OneDrive\\Documents\\Coding\\churnometer\\.venv\\Lib\\site-packages\\ppscore\\calculation.py:201: FutureWarning: is_categorical_dtype is deprecated and will be removed in a future version. Use isinstance(dtype, CategoricalDtype) instead\n",
      "  or is_categorical_dtype(series)\n",
      "c:\\Users\\purpk\\OneDrive\\Documents\\Coding\\churnometer\\.venv\\Lib\\site-packages\\ppscore\\calculation.py:201: FutureWarning: is_categorical_dtype is deprecated and will be removed in a future version. Use isinstance(dtype, CategoricalDtype) instead\n",
      "  or is_categorical_dtype(series)\n",
      "c:\\Users\\purpk\\OneDrive\\Documents\\Coding\\churnometer\\.venv\\Lib\\site-packages\\ppscore\\calculation.py:201: FutureWarning: is_categorical_dtype is deprecated and will be removed in a future version. Use isinstance(dtype, CategoricalDtype) instead\n",
      "  or is_categorical_dtype(series)\n",
      "c:\\Users\\purpk\\OneDrive\\Documents\\Coding\\churnometer\\.venv\\Lib\\site-packages\\ppscore\\calculation.py:201: FutureWarning: is_categorical_dtype is deprecated and will be removed in a future version. Use isinstance(dtype, CategoricalDtype) instead\n",
      "  or is_categorical_dtype(series)\n",
      "c:\\Users\\purpk\\OneDrive\\Documents\\Coding\\churnometer\\.venv\\Lib\\site-packages\\ppscore\\calculation.py:201: FutureWarning: is_categorical_dtype is deprecated and will be removed in a future version. Use isinstance(dtype, CategoricalDtype) instead\n",
      "  or is_categorical_dtype(series)\n",
      "c:\\Users\\purpk\\OneDrive\\Documents\\Coding\\churnometer\\.venv\\Lib\\site-packages\\ppscore\\calculation.py:201: FutureWarning: is_categorical_dtype is deprecated and will be removed in a future version. Use isinstance(dtype, CategoricalDtype) instead\n",
      "  or is_categorical_dtype(series)\n",
      "c:\\Users\\purpk\\OneDrive\\Documents\\Coding\\churnometer\\.venv\\Lib\\site-packages\\ppscore\\calculation.py:201: FutureWarning: is_categorical_dtype is deprecated and will be removed in a future version. Use isinstance(dtype, CategoricalDtype) instead\n",
      "  or is_categorical_dtype(series)\n",
      "c:\\Users\\purpk\\OneDrive\\Documents\\Coding\\churnometer\\.venv\\Lib\\site-packages\\ppscore\\calculation.py:201: FutureWarning: is_categorical_dtype is deprecated and will be removed in a future version. Use isinstance(dtype, CategoricalDtype) instead\n",
      "  or is_categorical_dtype(series)\n",
      "c:\\Users\\purpk\\OneDrive\\Documents\\Coding\\churnometer\\.venv\\Lib\\site-packages\\ppscore\\calculation.py:201: FutureWarning: is_categorical_dtype is deprecated and will be removed in a future version. Use isinstance(dtype, CategoricalDtype) instead\n",
      "  or is_categorical_dtype(series)\n",
      "c:\\Users\\purpk\\OneDrive\\Documents\\Coding\\churnometer\\.venv\\Lib\\site-packages\\ppscore\\calculation.py:201: FutureWarning: is_categorical_dtype is deprecated and will be removed in a future version. Use isinstance(dtype, CategoricalDtype) instead\n",
      "  or is_categorical_dtype(series)\n",
      "c:\\Users\\purpk\\OneDrive\\Documents\\Coding\\churnometer\\.venv\\Lib\\site-packages\\ppscore\\calculation.py:201: FutureWarning: is_categorical_dtype is deprecated and will be removed in a future version. Use isinstance(dtype, CategoricalDtype) instead\n",
      "  or is_categorical_dtype(series)\n",
      "c:\\Users\\purpk\\OneDrive\\Documents\\Coding\\churnometer\\.venv\\Lib\\site-packages\\ppscore\\calculation.py:201: FutureWarning: is_categorical_dtype is deprecated and will be removed in a future version. Use isinstance(dtype, CategoricalDtype) instead\n",
      "  or is_categorical_dtype(series)\n",
      "c:\\Users\\purpk\\OneDrive\\Documents\\Coding\\churnometer\\.venv\\Lib\\site-packages\\ppscore\\calculation.py:201: FutureWarning: is_categorical_dtype is deprecated and will be removed in a future version. Use isinstance(dtype, CategoricalDtype) instead\n",
      "  or is_categorical_dtype(series)\n",
      "c:\\Users\\purpk\\OneDrive\\Documents\\Coding\\churnometer\\.venv\\Lib\\site-packages\\ppscore\\calculation.py:201: FutureWarning: is_categorical_dtype is deprecated and will be removed in a future version. Use isinstance(dtype, CategoricalDtype) instead\n",
      "  or is_categorical_dtype(series)\n",
      "c:\\Users\\purpk\\OneDrive\\Documents\\Coding\\churnometer\\.venv\\Lib\\site-packages\\ppscore\\calculation.py:201: FutureWarning: is_categorical_dtype is deprecated and will be removed in a future version. Use isinstance(dtype, CategoricalDtype) instead\n",
      "  or is_categorical_dtype(series)\n",
      "c:\\Users\\purpk\\OneDrive\\Documents\\Coding\\churnometer\\.venv\\Lib\\site-packages\\ppscore\\calculation.py:201: FutureWarning: is_categorical_dtype is deprecated and will be removed in a future version. Use isinstance(dtype, CategoricalDtype) instead\n",
      "  or is_categorical_dtype(series)\n",
      "c:\\Users\\purpk\\OneDrive\\Documents\\Coding\\churnometer\\.venv\\Lib\\site-packages\\ppscore\\calculation.py:201: FutureWarning: is_categorical_dtype is deprecated and will be removed in a future version. Use isinstance(dtype, CategoricalDtype) instead\n",
      "  or is_categorical_dtype(series)\n",
      "c:\\Users\\purpk\\OneDrive\\Documents\\Coding\\churnometer\\.venv\\Lib\\site-packages\\ppscore\\calculation.py:201: FutureWarning: is_categorical_dtype is deprecated and will be removed in a future version. Use isinstance(dtype, CategoricalDtype) instead\n",
      "  or is_categorical_dtype(series)\n",
      "c:\\Users\\purpk\\OneDrive\\Documents\\Coding\\churnometer\\.venv\\Lib\\site-packages\\ppscore\\calculation.py:201: FutureWarning: is_categorical_dtype is deprecated and will be removed in a future version. Use isinstance(dtype, CategoricalDtype) instead\n",
      "  or is_categorical_dtype(series)\n",
      "c:\\Users\\purpk\\OneDrive\\Documents\\Coding\\churnometer\\.venv\\Lib\\site-packages\\ppscore\\calculation.py:201: FutureWarning: is_categorical_dtype is deprecated and will be removed in a future version. Use isinstance(dtype, CategoricalDtype) instead\n",
      "  or is_categorical_dtype(series)\n",
      "c:\\Users\\purpk\\OneDrive\\Documents\\Coding\\churnometer\\.venv\\Lib\\site-packages\\ppscore\\calculation.py:201: FutureWarning: is_categorical_dtype is deprecated and will be removed in a future version. Use isinstance(dtype, CategoricalDtype) instead\n",
      "  or is_categorical_dtype(series)\n",
      "c:\\Users\\purpk\\OneDrive\\Documents\\Coding\\churnometer\\.venv\\Lib\\site-packages\\ppscore\\calculation.py:201: FutureWarning: is_categorical_dtype is deprecated and will be removed in a future version. Use isinstance(dtype, CategoricalDtype) instead\n",
      "  or is_categorical_dtype(series)\n",
      "c:\\Users\\purpk\\OneDrive\\Documents\\Coding\\churnometer\\.venv\\Lib\\site-packages\\ppscore\\calculation.py:201: FutureWarning: is_categorical_dtype is deprecated and will be removed in a future version. Use isinstance(dtype, CategoricalDtype) instead\n",
      "  or is_categorical_dtype(series)\n",
      "c:\\Users\\purpk\\OneDrive\\Documents\\Coding\\churnometer\\.venv\\Lib\\site-packages\\ppscore\\calculation.py:201: FutureWarning: is_categorical_dtype is deprecated and will be removed in a future version. Use isinstance(dtype, CategoricalDtype) instead\n",
      "  or is_categorical_dtype(series)\n",
      "c:\\Users\\purpk\\OneDrive\\Documents\\Coding\\churnometer\\.venv\\Lib\\site-packages\\ppscore\\calculation.py:201: FutureWarning: is_categorical_dtype is deprecated and will be removed in a future version. Use isinstance(dtype, CategoricalDtype) instead\n",
      "  or is_categorical_dtype(series)\n",
      "c:\\Users\\purpk\\OneDrive\\Documents\\Coding\\churnometer\\.venv\\Lib\\site-packages\\ppscore\\calculation.py:201: FutureWarning: is_categorical_dtype is deprecated and will be removed in a future version. Use isinstance(dtype, CategoricalDtype) instead\n",
      "  or is_categorical_dtype(series)\n",
      "c:\\Users\\purpk\\OneDrive\\Documents\\Coding\\churnometer\\.venv\\Lib\\site-packages\\ppscore\\calculation.py:201: FutureWarning: is_categorical_dtype is deprecated and will be removed in a future version. Use isinstance(dtype, CategoricalDtype) instead\n",
      "  or is_categorical_dtype(series)\n",
      "c:\\Users\\purpk\\OneDrive\\Documents\\Coding\\churnometer\\.venv\\Lib\\site-packages\\ppscore\\calculation.py:201: FutureWarning: is_categorical_dtype is deprecated and will be removed in a future version. Use isinstance(dtype, CategoricalDtype) instead\n",
      "  or is_categorical_dtype(series)\n",
      "c:\\Users\\purpk\\OneDrive\\Documents\\Coding\\churnometer\\.venv\\Lib\\site-packages\\ppscore\\calculation.py:201: FutureWarning: is_categorical_dtype is deprecated and will be removed in a future version. Use isinstance(dtype, CategoricalDtype) instead\n",
      "  or is_categorical_dtype(series)\n",
      "c:\\Users\\purpk\\OneDrive\\Documents\\Coding\\churnometer\\.venv\\Lib\\site-packages\\ppscore\\calculation.py:201: FutureWarning: is_categorical_dtype is deprecated and will be removed in a future version. Use isinstance(dtype, CategoricalDtype) instead\n",
      "  or is_categorical_dtype(series)\n",
      "c:\\Users\\purpk\\OneDrive\\Documents\\Coding\\churnometer\\.venv\\Lib\\site-packages\\ppscore\\calculation.py:201: FutureWarning: is_categorical_dtype is deprecated and will be removed in a future version. Use isinstance(dtype, CategoricalDtype) instead\n",
      "  or is_categorical_dtype(series)\n",
      "c:\\Users\\purpk\\OneDrive\\Documents\\Coding\\churnometer\\.venv\\Lib\\site-packages\\ppscore\\calculation.py:201: FutureWarning: is_categorical_dtype is deprecated and will be removed in a future version. Use isinstance(dtype, CategoricalDtype) instead\n",
      "  or is_categorical_dtype(series)\n",
      "c:\\Users\\purpk\\OneDrive\\Documents\\Coding\\churnometer\\.venv\\Lib\\site-packages\\ppscore\\calculation.py:201: FutureWarning: is_categorical_dtype is deprecated and will be removed in a future version. Use isinstance(dtype, CategoricalDtype) instead\n",
      "  or is_categorical_dtype(series)\n",
      "c:\\Users\\purpk\\OneDrive\\Documents\\Coding\\churnometer\\.venv\\Lib\\site-packages\\ppscore\\calculation.py:201: FutureWarning: is_categorical_dtype is deprecated and will be removed in a future version. Use isinstance(dtype, CategoricalDtype) instead\n",
      "  or is_categorical_dtype(series)\n",
      "c:\\Users\\purpk\\OneDrive\\Documents\\Coding\\churnometer\\.venv\\Lib\\site-packages\\ppscore\\calculation.py:201: FutureWarning: is_categorical_dtype is deprecated and will be removed in a future version. Use isinstance(dtype, CategoricalDtype) instead\n",
      "  or is_categorical_dtype(series)\n",
      "c:\\Users\\purpk\\OneDrive\\Documents\\Coding\\churnometer\\.venv\\Lib\\site-packages\\ppscore\\calculation.py:201: FutureWarning: is_categorical_dtype is deprecated and will be removed in a future version. Use isinstance(dtype, CategoricalDtype) instead\n",
      "  or is_categorical_dtype(series)\n",
      "c:\\Users\\purpk\\OneDrive\\Documents\\Coding\\churnometer\\.venv\\Lib\\site-packages\\ppscore\\calculation.py:201: FutureWarning: is_categorical_dtype is deprecated and will be removed in a future version. Use isinstance(dtype, CategoricalDtype) instead\n",
      "  or is_categorical_dtype(series)\n",
      "c:\\Users\\purpk\\OneDrive\\Documents\\Coding\\churnometer\\.venv\\Lib\\site-packages\\ppscore\\calculation.py:201: FutureWarning: is_categorical_dtype is deprecated and will be removed in a future version. Use isinstance(dtype, CategoricalDtype) instead\n",
      "  or is_categorical_dtype(series)\n",
      "c:\\Users\\purpk\\OneDrive\\Documents\\Coding\\churnometer\\.venv\\Lib\\site-packages\\ppscore\\calculation.py:201: FutureWarning: is_categorical_dtype is deprecated and will be removed in a future version. Use isinstance(dtype, CategoricalDtype) instead\n",
      "  or is_categorical_dtype(series)\n",
      "c:\\Users\\purpk\\OneDrive\\Documents\\Coding\\churnometer\\.venv\\Lib\\site-packages\\ppscore\\calculation.py:201: FutureWarning: is_categorical_dtype is deprecated and will be removed in a future version. Use isinstance(dtype, CategoricalDtype) instead\n",
      "  or is_categorical_dtype(series)\n",
      "c:\\Users\\purpk\\OneDrive\\Documents\\Coding\\churnometer\\.venv\\Lib\\site-packages\\ppscore\\calculation.py:201: FutureWarning: is_categorical_dtype is deprecated and will be removed in a future version. Use isinstance(dtype, CategoricalDtype) instead\n",
      "  or is_categorical_dtype(series)\n",
      "c:\\Users\\purpk\\OneDrive\\Documents\\Coding\\churnometer\\.venv\\Lib\\site-packages\\ppscore\\calculation.py:201: FutureWarning: is_categorical_dtype is deprecated and will be removed in a future version. Use isinstance(dtype, CategoricalDtype) instead\n",
      "  or is_categorical_dtype(series)\n",
      "c:\\Users\\purpk\\OneDrive\\Documents\\Coding\\churnometer\\.venv\\Lib\\site-packages\\ppscore\\calculation.py:201: FutureWarning: is_categorical_dtype is deprecated and will be removed in a future version. Use isinstance(dtype, CategoricalDtype) instead\n",
      "  or is_categorical_dtype(series)\n",
      "c:\\Users\\purpk\\OneDrive\\Documents\\Coding\\churnometer\\.venv\\Lib\\site-packages\\ppscore\\calculation.py:201: FutureWarning: is_categorical_dtype is deprecated and will be removed in a future version. Use isinstance(dtype, CategoricalDtype) instead\n",
      "  or is_categorical_dtype(series)\n",
      "c:\\Users\\purpk\\OneDrive\\Documents\\Coding\\churnometer\\.venv\\Lib\\site-packages\\ppscore\\calculation.py:201: FutureWarning: is_categorical_dtype is deprecated and will be removed in a future version. Use isinstance(dtype, CategoricalDtype) instead\n",
      "  or is_categorical_dtype(series)\n",
      "c:\\Users\\purpk\\OneDrive\\Documents\\Coding\\churnometer\\.venv\\Lib\\site-packages\\ppscore\\calculation.py:201: FutureWarning: is_categorical_dtype is deprecated and will be removed in a future version. Use isinstance(dtype, CategoricalDtype) instead\n",
      "  or is_categorical_dtype(series)\n",
      "c:\\Users\\purpk\\OneDrive\\Documents\\Coding\\churnometer\\.venv\\Lib\\site-packages\\ppscore\\calculation.py:201: FutureWarning: is_categorical_dtype is deprecated and will be removed in a future version. Use isinstance(dtype, CategoricalDtype) instead\n",
      "  or is_categorical_dtype(series)\n",
      "c:\\Users\\purpk\\OneDrive\\Documents\\Coding\\churnometer\\.venv\\Lib\\site-packages\\ppscore\\calculation.py:201: FutureWarning: is_categorical_dtype is deprecated and will be removed in a future version. Use isinstance(dtype, CategoricalDtype) instead\n",
      "  or is_categorical_dtype(series)\n",
      "c:\\Users\\purpk\\OneDrive\\Documents\\Coding\\churnometer\\.venv\\Lib\\site-packages\\ppscore\\calculation.py:201: FutureWarning: is_categorical_dtype is deprecated and will be removed in a future version. Use isinstance(dtype, CategoricalDtype) instead\n",
      "  or is_categorical_dtype(series)\n",
      "c:\\Users\\purpk\\OneDrive\\Documents\\Coding\\churnometer\\.venv\\Lib\\site-packages\\ppscore\\calculation.py:201: FutureWarning: is_categorical_dtype is deprecated and will be removed in a future version. Use isinstance(dtype, CategoricalDtype) instead\n",
      "  or is_categorical_dtype(series)\n",
      "c:\\Users\\purpk\\OneDrive\\Documents\\Coding\\churnometer\\.venv\\Lib\\site-packages\\ppscore\\calculation.py:201: FutureWarning: is_categorical_dtype is deprecated and will be removed in a future version. Use isinstance(dtype, CategoricalDtype) instead\n",
      "  or is_categorical_dtype(series)\n",
      "c:\\Users\\purpk\\OneDrive\\Documents\\Coding\\churnometer\\.venv\\Lib\\site-packages\\ppscore\\calculation.py:201: FutureWarning: is_categorical_dtype is deprecated and will be removed in a future version. Use isinstance(dtype, CategoricalDtype) instead\n",
      "  or is_categorical_dtype(series)\n",
      "c:\\Users\\purpk\\OneDrive\\Documents\\Coding\\churnometer\\.venv\\Lib\\site-packages\\ppscore\\calculation.py:201: FutureWarning: is_categorical_dtype is deprecated and will be removed in a future version. Use isinstance(dtype, CategoricalDtype) instead\n",
      "  or is_categorical_dtype(series)\n",
      "c:\\Users\\purpk\\OneDrive\\Documents\\Coding\\churnometer\\.venv\\Lib\\site-packages\\ppscore\\calculation.py:201: FutureWarning: is_categorical_dtype is deprecated and will be removed in a future version. Use isinstance(dtype, CategoricalDtype) instead\n",
      "  or is_categorical_dtype(series)\n",
      "c:\\Users\\purpk\\OneDrive\\Documents\\Coding\\churnometer\\.venv\\Lib\\site-packages\\ppscore\\calculation.py:201: FutureWarning: is_categorical_dtype is deprecated and will be removed in a future version. Use isinstance(dtype, CategoricalDtype) instead\n",
      "  or is_categorical_dtype(series)\n",
      "c:\\Users\\purpk\\OneDrive\\Documents\\Coding\\churnometer\\.venv\\Lib\\site-packages\\ppscore\\calculation.py:201: FutureWarning: is_categorical_dtype is deprecated and will be removed in a future version. Use isinstance(dtype, CategoricalDtype) instead\n",
      "  or is_categorical_dtype(series)\n",
      "c:\\Users\\purpk\\OneDrive\\Documents\\Coding\\churnometer\\.venv\\Lib\\site-packages\\ppscore\\calculation.py:201: FutureWarning: is_categorical_dtype is deprecated and will be removed in a future version. Use isinstance(dtype, CategoricalDtype) instead\n",
      "  or is_categorical_dtype(series)\n",
      "c:\\Users\\purpk\\OneDrive\\Documents\\Coding\\churnometer\\.venv\\Lib\\site-packages\\ppscore\\calculation.py:201: FutureWarning: is_categorical_dtype is deprecated and will be removed in a future version. Use isinstance(dtype, CategoricalDtype) instead\n",
      "  or is_categorical_dtype(series)\n",
      "c:\\Users\\purpk\\OneDrive\\Documents\\Coding\\churnometer\\.venv\\Lib\\site-packages\\ppscore\\calculation.py:201: FutureWarning: is_categorical_dtype is deprecated and will be removed in a future version. Use isinstance(dtype, CategoricalDtype) instead\n",
      "  or is_categorical_dtype(series)\n",
      "c:\\Users\\purpk\\OneDrive\\Documents\\Coding\\churnometer\\.venv\\Lib\\site-packages\\ppscore\\calculation.py:201: FutureWarning: is_categorical_dtype is deprecated and will be removed in a future version. Use isinstance(dtype, CategoricalDtype) instead\n",
      "  or is_categorical_dtype(series)\n",
      "c:\\Users\\purpk\\OneDrive\\Documents\\Coding\\churnometer\\.venv\\Lib\\site-packages\\ppscore\\calculation.py:201: FutureWarning: is_categorical_dtype is deprecated and will be removed in a future version. Use isinstance(dtype, CategoricalDtype) instead\n",
      "  or is_categorical_dtype(series)\n",
      "c:\\Users\\purpk\\OneDrive\\Documents\\Coding\\churnometer\\.venv\\Lib\\site-packages\\ppscore\\calculation.py:201: FutureWarning: is_categorical_dtype is deprecated and will be removed in a future version. Use isinstance(dtype, CategoricalDtype) instead\n",
      "  or is_categorical_dtype(series)\n",
      "c:\\Users\\purpk\\OneDrive\\Documents\\Coding\\churnometer\\.venv\\Lib\\site-packages\\ppscore\\calculation.py:201: FutureWarning: is_categorical_dtype is deprecated and will be removed in a future version. Use isinstance(dtype, CategoricalDtype) instead\n",
      "  or is_categorical_dtype(series)\n",
      "c:\\Users\\purpk\\OneDrive\\Documents\\Coding\\churnometer\\.venv\\Lib\\site-packages\\ppscore\\calculation.py:201: FutureWarning: is_categorical_dtype is deprecated and will be removed in a future version. Use isinstance(dtype, CategoricalDtype) instead\n",
      "  or is_categorical_dtype(series)\n",
      "c:\\Users\\purpk\\OneDrive\\Documents\\Coding\\churnometer\\.venv\\Lib\\site-packages\\ppscore\\calculation.py:201: FutureWarning: is_categorical_dtype is deprecated and will be removed in a future version. Use isinstance(dtype, CategoricalDtype) instead\n",
      "  or is_categorical_dtype(series)\n",
      "c:\\Users\\purpk\\OneDrive\\Documents\\Coding\\churnometer\\.venv\\Lib\\site-packages\\ppscore\\calculation.py:201: FutureWarning: is_categorical_dtype is deprecated and will be removed in a future version. Use isinstance(dtype, CategoricalDtype) instead\n",
      "  or is_categorical_dtype(series)\n",
      "c:\\Users\\purpk\\OneDrive\\Documents\\Coding\\churnometer\\.venv\\Lib\\site-packages\\ppscore\\calculation.py:201: FutureWarning: is_categorical_dtype is deprecated and will be removed in a future version. Use isinstance(dtype, CategoricalDtype) instead\n",
      "  or is_categorical_dtype(series)\n",
      "c:\\Users\\purpk\\OneDrive\\Documents\\Coding\\churnometer\\.venv\\Lib\\site-packages\\ppscore\\calculation.py:201: FutureWarning: is_categorical_dtype is deprecated and will be removed in a future version. Use isinstance(dtype, CategoricalDtype) instead\n",
      "  or is_categorical_dtype(series)\n",
      "c:\\Users\\purpk\\OneDrive\\Documents\\Coding\\churnometer\\.venv\\Lib\\site-packages\\ppscore\\calculation.py:201: FutureWarning: is_categorical_dtype is deprecated and will be removed in a future version. Use isinstance(dtype, CategoricalDtype) instead\n",
      "  or is_categorical_dtype(series)\n",
      "c:\\Users\\purpk\\OneDrive\\Documents\\Coding\\churnometer\\.venv\\Lib\\site-packages\\ppscore\\calculation.py:201: FutureWarning: is_categorical_dtype is deprecated and will be removed in a future version. Use isinstance(dtype, CategoricalDtype) instead\n",
      "  or is_categorical_dtype(series)\n",
      "c:\\Users\\purpk\\OneDrive\\Documents\\Coding\\churnometer\\.venv\\Lib\\site-packages\\ppscore\\calculation.py:201: FutureWarning: is_categorical_dtype is deprecated and will be removed in a future version. Use isinstance(dtype, CategoricalDtype) instead\n",
      "  or is_categorical_dtype(series)\n",
      "c:\\Users\\purpk\\OneDrive\\Documents\\Coding\\churnometer\\.venv\\Lib\\site-packages\\ppscore\\calculation.py:201: FutureWarning: is_categorical_dtype is deprecated and will be removed in a future version. Use isinstance(dtype, CategoricalDtype) instead\n",
      "  or is_categorical_dtype(series)\n",
      "c:\\Users\\purpk\\OneDrive\\Documents\\Coding\\churnometer\\.venv\\Lib\\site-packages\\ppscore\\calculation.py:201: FutureWarning: is_categorical_dtype is deprecated and will be removed in a future version. Use isinstance(dtype, CategoricalDtype) instead\n",
      "  or is_categorical_dtype(series)\n",
      "c:\\Users\\purpk\\OneDrive\\Documents\\Coding\\churnometer\\.venv\\Lib\\site-packages\\ppscore\\calculation.py:201: FutureWarning: is_categorical_dtype is deprecated and will be removed in a future version. Use isinstance(dtype, CategoricalDtype) instead\n",
      "  or is_categorical_dtype(series)\n",
      "c:\\Users\\purpk\\OneDrive\\Documents\\Coding\\churnometer\\.venv\\Lib\\site-packages\\ppscore\\calculation.py:201: FutureWarning: is_categorical_dtype is deprecated and will be removed in a future version. Use isinstance(dtype, CategoricalDtype) instead\n",
      "  or is_categorical_dtype(series)\n",
      "c:\\Users\\purpk\\OneDrive\\Documents\\Coding\\churnometer\\.venv\\Lib\\site-packages\\ppscore\\calculation.py:201: FutureWarning: is_categorical_dtype is deprecated and will be removed in a future version. Use isinstance(dtype, CategoricalDtype) instead\n",
      "  or is_categorical_dtype(series)\n"
     ]
    },
    {
     "name": "stdout",
     "output_type": "stream",
     "text": [
      "PPS threshold - check PPS score IQR to decide threshold for heatmap \n",
      "\n",
      "         count   mean    std  min  25%  50%    75%    max\n",
      "ppscore  419.0  0.113  0.172  0.0  0.0  0.0  0.156  0.777\n"
     ]
    },
    {
     "name": "stderr",
     "output_type": "stream",
     "text": [
      "c:\\Users\\purpk\\OneDrive\\Documents\\Coding\\churnometer\\.venv\\Lib\\site-packages\\ppscore\\calculation.py:201: FutureWarning: is_categorical_dtype is deprecated and will be removed in a future version. Use isinstance(dtype, CategoricalDtype) instead\n",
      "  or is_categorical_dtype(series)\n",
      "c:\\Users\\purpk\\OneDrive\\Documents\\Coding\\churnometer\\.venv\\Lib\\site-packages\\ppscore\\calculation.py:201: FutureWarning: is_categorical_dtype is deprecated and will be removed in a future version. Use isinstance(dtype, CategoricalDtype) instead\n",
      "  or is_categorical_dtype(series)\n",
      "c:\\Users\\purpk\\OneDrive\\Documents\\Coding\\churnometer\\.venv\\Lib\\site-packages\\ppscore\\calculation.py:201: FutureWarning: is_categorical_dtype is deprecated and will be removed in a future version. Use isinstance(dtype, CategoricalDtype) instead\n",
      "  or is_categorical_dtype(series)\n",
      "c:\\Users\\purpk\\OneDrive\\Documents\\Coding\\churnometer\\.venv\\Lib\\site-packages\\ppscore\\calculation.py:201: FutureWarning: is_categorical_dtype is deprecated and will be removed in a future version. Use isinstance(dtype, CategoricalDtype) instead\n",
      "  or is_categorical_dtype(series)\n",
      "c:\\Users\\purpk\\OneDrive\\Documents\\Coding\\churnometer\\.venv\\Lib\\site-packages\\ppscore\\calculation.py:201: FutureWarning: is_categorical_dtype is deprecated and will be removed in a future version. Use isinstance(dtype, CategoricalDtype) instead\n",
      "  or is_categorical_dtype(series)\n",
      "c:\\Users\\purpk\\OneDrive\\Documents\\Coding\\churnometer\\.venv\\Lib\\site-packages\\ppscore\\calculation.py:201: FutureWarning: is_categorical_dtype is deprecated and will be removed in a future version. Use isinstance(dtype, CategoricalDtype) instead\n",
      "  or is_categorical_dtype(series)\n",
      "c:\\Users\\purpk\\OneDrive\\Documents\\Coding\\churnometer\\.venv\\Lib\\site-packages\\ppscore\\calculation.py:201: FutureWarning: is_categorical_dtype is deprecated and will be removed in a future version. Use isinstance(dtype, CategoricalDtype) instead\n",
      "  or is_categorical_dtype(series)\n",
      "c:\\Users\\purpk\\OneDrive\\Documents\\Coding\\churnometer\\.venv\\Lib\\site-packages\\ppscore\\calculation.py:201: FutureWarning: is_categorical_dtype is deprecated and will be removed in a future version. Use isinstance(dtype, CategoricalDtype) instead\n",
      "  or is_categorical_dtype(series)\n"
     ]
    }
   ],
   "source": [
    "df_corr_pearson, df_corr_spearman, pps_matrix = CalculateCorrAndPPS(df)"
   ]
  },
  {
   "cell_type": "markdown",
   "metadata": {
    "id": "cJ-0L4PiSPEK"
   },
   "source": [
    "Display at Heatmaps"
   ]
  },
  {
   "cell_type": "code",
   "execution_count": 12,
   "metadata": {
    "colab": {
     "base_uri": "https://localhost:8080/",
     "height": 1000
    },
    "id": "ioE3yuC4Q7QK",
    "outputId": "1946ffa1-2e5d-4972-eeda-45d7fe382314"
   },
   "outputs": [
    {
     "name": "stdout",
     "output_type": "stream",
     "text": [
      "\n",
      "\n",
      "* Analyse how the target variable for your ML models are correlated with other variables (features and target)\n",
      "* Analyse multi-colinearity, that is, how the features are correlated among themselves\n",
      "\n",
      "\n",
      "*** Heatmap: Spearman Correlation ***\n",
      "It evaluates monotonic relationship \n",
      "\n"
     ]
    },
    {
     "data": {
      "image/png": "[encoded data removed]",
      "text/plain": [
       "<Figure size 1200x1000 with 2 Axes>"
      ]
     },
     "metadata": {},
     "output_type": "display_data"
    },
    {
     "name": "stdout",
     "output_type": "stream",
     "text": [
      "\n",
      "\n",
      "*** Heatmap: Pearson Correlation ***\n",
      "It evaluates the linear relationship between two continuous variables \n",
      "\n"
     ]
    },
    {
     "data": {
      "image/png": "[encoded data removed]",
      "text/plain": [
       "<Figure size 1200x1000 with 2 Axes>"
      ]
     },
     "metadata": {},
     "output_type": "display_data"
    },
    {
     "name": "stdout",
     "output_type": "stream",
     "text": [
      "\n",
      "\n",
      "*** Heatmap: Power Predictive Score (PPS) ***\n",
      "PPS detects linear or non-linear relationships between two columns.\n",
      "The score ranges from 0 (no predictive power) to 1 (perfect predictive power) \n",
      "\n"
     ]
    },
    {
     "data": {
      "image/png": "[encoded data removed]",
      "text/plain": [
       "<Figure size 1200x1000 with 2 Axes>"
      ]
     },
     "metadata": {},
     "output_type": "display_data"
    }
   ],
   "source": [
    "%matplotlib inline\n",
    "DisplayCorrAndPPS(df_corr_pearson = df_corr_pearson,\n",
    "                  df_corr_spearman = df_corr_spearman, \n",
    "                  pps_matrix = pps_matrix,\n",
    "                  CorrThreshold = 0.4, PPS_Threshold =0.2,\n",
    "                  figsize=(12,10), font_annot=10)"
   ]
  },
  {
   "cell_type": "markdown",
   "metadata": {
    "id": "bYdZHyDhu4kG"
   },
   "source": [
    "# Data Cleaning"
   ]
  },
  {
   "cell_type": "markdown",
   "metadata": {
    "id": "HxoVRefhu2Bk"
   },
   "source": [
    "## Assessing Missing Data Levels"
   ]
  },
  {
   "cell_type": "markdown",
   "metadata": {
    "id": "pcocWZkIx6nk"
   },
   "source": [
    "* Custom function to display missing data levels in a DataFrame, it shows the absolute levels, relative levels and data type."
   ]
  },
  {
   "cell_type": "code",
   "execution_count": 13,
   "metadata": {
    "id": "z9CoLqBhO7ga"
   },
   "outputs": [],
   "source": [
    "def EvaluateMissingData(df):\n",
    "    missing_data_absolute = df.isnull().sum()\n",
    "    missing_data_percentage = round(missing_data_absolute/len(df)*100, 2)\n",
    "    df_missing_data = (pd.DataFrame(\n",
    "                            data={\"RowsWithMissingData\": missing_data_absolute,\n",
    "                                   \"PercentageOfDataset\": missing_data_percentage,\n",
    "                                   \"DataType\": df.dtypes}\n",
    "                                    )\n",
    "                          .sort_values(by=['PercentageOfDataset'], ascending=False)\n",
    "                          .query(\"PercentageOfDataset > 0\")\n",
    "                          )\n",
    "\n",
    "    return df_missing_data\n"
   ]
  },
  {
   "cell_type": "markdown",
   "metadata": {
    "id": "HHrzaG-ZhEKt"
   },
   "source": [
    "Check missing data levels for the collected dataset."
   ]
  },
  {
   "cell_type": "code",
   "execution_count": 14,
   "metadata": {
    "colab": {
     "base_uri": "https://localhost:8080/",
     "height": 80
    },
    "id": "zxvNnLAjxCSi",
    "outputId": "e6239998-21e1-4401-80de-e25c33bbba52"
   },
   "outputs": [
    {
     "data": {
      "text/html": [
       "<div>\n",
       "<style scoped>\n",
       "    .dataframe tbody tr th:only-of-type {\n",
       "        vertical-align: middle;\n",
       "    }\n",
       "\n",
       "    .dataframe tbody tr th {\n",
       "        vertical-align: top;\n",
       "    }\n",
       "\n",
       "    .dataframe thead th {\n",
       "        text-align: right;\n",
       "    }\n",
       "</style>\n",
       "<table border=\"1\" class=\"dataframe\">\n",
       "  <thead>\n",
       "    <tr style=\"text-align: right;\">\n",
       "      <th></th>\n",
       "      <th>RowsWithMissingData</th>\n",
       "      <th>PercentageOfDataset</th>\n",
       "      <th>DataType</th>\n",
       "    </tr>\n",
       "  </thead>\n",
       "  <tbody>\n",
       "    <tr>\n",
       "      <th>TotalCharges</th>\n",
       "      <td>11</td>\n",
       "      <td>0.16</td>\n",
       "      <td>float64</td>\n",
       "    </tr>\n",
       "  </tbody>\n",
       "</table>\n",
       "</div>"
      ],
      "text/plain": [
       "              RowsWithMissingData  PercentageOfDataset DataType\n",
       "TotalCharges                   11                 0.16  float64"
      ]
     },
     "execution_count": 14,
     "metadata": {},
     "output_type": "execute_result"
    }
   ],
   "source": [
    "EvaluateMissingData(df)"
   ]
  },
  {
   "cell_type": "markdown",
   "metadata": {
    "id": "mWAI2EAp2FNM"
   },
   "source": [
    "## Data Cleaning Spreadsheet Summary"
   ]
  },
  {
   "cell_type": "markdown",
   "metadata": {
    "id": "Pp-lSdVH-_-3"
   },
   "source": [
    "* Consider your spreadsheet notes on potential approaches to handle missing data\n"
   ]
  },
  {
   "cell_type": "markdown",
   "metadata": {
    "id": "nsL8yYQEyOSt"
   },
   "source": [
    "## Dealing with Missing Data"
   ]
  },
  {
   "cell_type": "markdown",
   "metadata": {},
   "source": [
    "This dataset doesn't require much data cleaning, therefore we are not loading the DataCleaningEffect() function we studied in the feature-engine lesson.\n",
    "* For your future projects, this would be a moment to load that function and use it over your data-cleaning process.\n",
    "* For this project, we are skipping this part."
   ]
  },
  {
   "cell_type": "markdown",
   "metadata": {
    "id": "Jt8Yqjy6ghyw"
   },
   "source": [
    "### Data Cleaning Summary"
   ]
  },
  {
   "cell_type": "markdown",
   "metadata": {
    "id": "O4GaYe_DgqwT"
   },
   "source": [
    "List here the data cleaning approaches you want initially to try.\n",
    "* Drop - `['customerID', 'TotalCharges' ]`\n",
    "\n",
    "\n",
    "**The list above is your guide, your map to know at which stage you are in the data-cleaning process**"
   ]
  },
  {
   "cell_type": "markdown",
   "metadata": {
    "id": "W12Z8KIPoZ-8"
   },
   "source": [
    "### Split Train and Test Set"
   ]
  },
  {
   "cell_type": "code",
   "execution_count": 15,
   "metadata": {
    "colab": {
     "base_uri": "https://localhost:8080/"
    },
    "id": "Knk7DcVborLI",
    "outputId": "049ef5f2-c431-4a9d-fd87-00809986c38d"
   },
   "outputs": [
    {
     "name": "stdout",
     "output_type": "stream",
     "text": [
      "TrainSet shape: (5634, 21) \n",
      "TestSet shape: (1409, 21)\n"
     ]
    }
   ],
   "source": [
    "from sklearn.model_selection import train_test_split\n",
    "TrainSet, TestSet, _, __ = train_test_split(\n",
    "                                        df,\n",
    "                                        df['Churn'],\n",
    "                                        test_size=0.2,\n",
    "                                        random_state=0)\n",
    "\n",
    "print(f\"TrainSet shape: {TrainSet.shape} \\nTestSet shape: {TestSet.shape}\")"
   ]
  },
  {
   "cell_type": "code",
   "execution_count": 16,
   "metadata": {
    "colab": {
     "base_uri": "https://localhost:8080/",
     "height": 115
    },
    "id": "zdMPKBU_yCpF",
    "outputId": "df45adaf-5e93-4644-919f-6b82e51fe8b7"
   },
   "outputs": [
    {
     "name": "stdout",
     "output_type": "stream",
     "text": [
      "* There are 1 variables with missing data \n",
      "\n"
     ]
    },
    {
     "data": {
      "text/html": [
       "<div>\n",
       "<style scoped>\n",
       "    .dataframe tbody tr th:only-of-type {\n",
       "        vertical-align: middle;\n",
       "    }\n",
       "\n",
       "    .dataframe tbody tr th {\n",
       "        vertical-align: top;\n",
       "    }\n",
       "\n",
       "    .dataframe thead th {\n",
       "        text-align: right;\n",
       "    }\n",
       "</style>\n",
       "<table border=\"1\" class=\"dataframe\">\n",
       "  <thead>\n",
       "    <tr style=\"text-align: right;\">\n",
       "      <th></th>\n",
       "      <th>RowsWithMissingData</th>\n",
       "      <th>PercentageOfDataset</th>\n",
       "      <th>DataType</th>\n",
       "    </tr>\n",
       "  </thead>\n",
       "  <tbody>\n",
       "    <tr>\n",
       "      <th>TotalCharges</th>\n",
       "      <td>8</td>\n",
       "      <td>0.14</td>\n",
       "      <td>float64</td>\n",
       "    </tr>\n",
       "  </tbody>\n",
       "</table>\n",
       "</div>"
      ],
      "text/plain": [
       "              RowsWithMissingData  PercentageOfDataset DataType\n",
       "TotalCharges                    8                 0.14  float64"
      ]
     },
     "execution_count": 16,
     "metadata": {},
     "output_type": "execute_result"
    }
   ],
   "source": [
    "df_missing_data = EvaluateMissingData(TrainSet)\n",
    "print(f\"* There are {df_missing_data.shape[0]} variables with missing data \\n\")\n",
    "df_missing_data"
   ]
  },
  {
   "cell_type": "markdown",
   "metadata": {
    "id": "EUeGUUmu4qru"
   },
   "source": [
    "### Drop Variables\n"
   ]
  },
  {
   "cell_type": "markdown",
   "metadata": {
    "id": "cLTFTio14qr8"
   },
   "source": [
    "* Hint: you may drop Variables with more than 80% of missing data since these variables will likely not add much value. However, this is not the case in this dataset\n",
    "* Step 1: imputation approach: **Drop Variables**\n",
    "* Step 2: Select variables to apply the imputation approach\n"
   ]
  },
  {
   "cell_type": "code",
   "execution_count": 17,
   "metadata": {
    "colab": {
     "base_uri": "https://localhost:8080/"
    },
    "id": "zlQBeLo44qr8",
    "outputId": "6a342431-6be3-48fa-ce83-ed00489d960c"
   },
   "outputs": [
    {
     "name": "stdout",
     "output_type": "stream",
     "text": [
      "* 2 variables to drop \n",
      "\n",
      "['customerID', 'TotalCharges']\n"
     ]
    }
   ],
   "source": [
    "variables_method = ['customerID', 'TotalCharges' ]\n",
    "\n",
    "print(f\"* {len(variables_method)} variables to drop \\n\\n\"\n",
    "    f\"{variables_method}\")\n"
   ]
  },
  {
   "cell_type": "markdown",
   "metadata": {
    "id": "h1kKajldGrqF"
   },
   "source": [
    "* We are dropping `CustomerID` since it is a unique identifier for each customer, it doesn't add information to the dataset as it is.\n",
    "* We are dropping `TotalCharges` as for the context of the ML projects, a prospect doesn't have `TotalCharges`."
   ]
  },
  {
   "cell_type": "markdown",
   "metadata": {
    "id": "7au_UdA34qr9"
   },
   "source": [
    "* Step 3: Create a separate DataFrame applying this imputation approach to the selected variables."
   ]
  },
  {
   "cell_type": "code",
   "execution_count": null,
   "metadata": {
    "id": "Zh9E2cEe4qr9"
   },
   "outputs": [],
   "source": [
    "from feature_engine.selection import DropFeatures\n",
    "imputer = DropFeatures(features_to_drop=variables_method)\n",
    "imputer.fit(TrainSet)\n",
    "df_method = imputer.transform(TrainSet)"
   ]
  },
  {
   "cell_type": "markdown",
   "metadata": {
    "id": "fsjRXMlU4qr9"
   },
   "source": [
    "* Step 4: Assess the effect on the variable's distribution."
   ]
  },
  {
   "cell_type": "markdown",
   "metadata": {
    "id": "zc9pg4ww_BO-"
   },
   "source": [
    "* In this case, there is no effect on the distribution of the variable, since you are not removing rows, but columns.\n",
    "* The effect might be losing features that might have a relevant impact on your machine-learning model."
   ]
  },
  {
   "cell_type": "markdown",
   "metadata": {
    "id": "uBq1a_Me4qr-"
   },
   "source": [
    "* Step 5: If you are satisfied, apply the transformation to your data."
   ]
  },
  {
   "cell_type": "code",
   "execution_count": 18,
   "metadata": {
    "id": "NGO5M1k44qr-"
   },
   "outputs": [],
   "source": [
    "from feature_engine.selection import DropFeatures\n",
    "imputer = DropFeatures(features_to_drop=variables_method)\n",
    "imputer.fit(TrainSet)\n",
    "\n",
    "TrainSet, TestSet = imputer.transform(TrainSet) , imputer.transform(TestSet)"
   ]
  },
  {
   "cell_type": "markdown",
   "metadata": {
    "id": "LozxNCVO4qr_"
   },
   "source": [
    "* Step 6: Evaluate if you have more variables to deal with. If yes, iterate. If not, you are done."
   ]
  },
  {
   "cell_type": "code",
   "execution_count": 19,
   "metadata": {
    "colab": {
     "base_uri": "https://localhost:8080/",
     "height": 49
    },
    "id": "zGmZy46L4qr_",
    "outputId": "3597364f-19a3-42af-8d56-3bbcfe8675e4"
   },
   "outputs": [
    {
     "data": {
      "text/html": [
       "<div>\n",
       "<style scoped>\n",
       "    .dataframe tbody tr th:only-of-type {\n",
       "        vertical-align: middle;\n",
       "    }\n",
       "\n",
       "    .dataframe tbody tr th {\n",
       "        vertical-align: top;\n",
       "    }\n",
       "\n",
       "    .dataframe thead th {\n",
       "        text-align: right;\n",
       "    }\n",
       "</style>\n",
       "<table border=\"1\" class=\"dataframe\">\n",
       "  <thead>\n",
       "    <tr style=\"text-align: right;\">\n",
       "      <th></th>\n",
       "      <th>RowsWithMissingData</th>\n",
       "      <th>PercentageOfDataset</th>\n",
       "      <th>DataType</th>\n",
       "    </tr>\n",
       "  </thead>\n",
       "  <tbody>\n",
       "  </tbody>\n",
       "</table>\n",
       "</div>"
      ],
      "text/plain": [
       "Empty DataFrame\n",
       "Columns: [RowsWithMissingData, PercentageOfDataset, DataType]\n",
       "Index: []"
      ]
     },
     "execution_count": 19,
     "metadata": {},
     "output_type": "execute_result"
    }
   ],
   "source": [
    "EvaluateMissingData(TrainSet)"
   ]
  },
  {
   "cell_type": "markdown",
   "metadata": {
    "id": "eD--GI5Jvp8h"
   },
   "source": [
    "# Push cleaned data to Repo"
   ]
  },
  {
   "cell_type": "code",
   "execution_count": 20,
   "metadata": {
    "id": "1SNWONrYwu6d"
   },
   "outputs": [],
   "source": [
    "import os\n",
    "try:\n",
    "  os.makedirs(name='outputs/datasets/cleaned') # create outputs/datasets/collection folder\n",
    "except Exception as e:\n",
    "  print(e)\n"
   ]
  },
  {
   "cell_type": "markdown",
   "metadata": {
    "id": "TE3DQfy82r7I"
   },
   "source": [
    "## Train Set"
   ]
  },
  {
   "cell_type": "code",
   "execution_count": 21,
   "metadata": {
    "id": "Q1ayKT4F2p52"
   },
   "outputs": [],
   "source": [
    "TrainSet.to_csv(\"outputs/datasets/cleaned/TrainSetCleaned.csv\", index=False)"
   ]
  },
  {
   "cell_type": "markdown",
   "metadata": {
    "id": "BTTabVk-2ulD"
   },
   "source": [
    "## Test Set"
   ]
  },
  {
   "cell_type": "code",
   "execution_count": 22,
   "metadata": {
    "id": "zCjorYny2qCD"
   },
   "outputs": [],
   "source": [
    "TestSet.to_csv(\"outputs/datasets/cleaned/TestSetCleaned.csv\", index=False)"
   ]
  },
  {
   "cell_type": "markdown",
   "metadata": {},
   "source": [
    "Good job! Clear cell outputs"
   ]
  },
  {
   "cell_type": "markdown",
   "metadata": {
    "id": "ZgNVNpuV6NV2"
   },
   "source": [
    "Well done! You can now push the changes to your GitHub Repo, using the Git commands (git add, git commit, git push)"
   ]
  }
 ],
 "metadata": {
  "accelerator": "GPU",
  "colab": {
   "name": "Data Practitioner Jupyter Notebook.ipynb",
   "provenance": []
  },
  "kernelspec": {
   "display_name": ".venv",
   "language": "python",
   "name": "python3"
  },
  "language_info": {
   "codemirror_mode": {
    "name": "ipython",
    "version": 3
   },
   "file_extension": ".py",
   "mimetype": "text/x-python",
   "name": "python",
   "nbconvert_exporter": "python",
   "pygments_lexer": "ipython3",
   "version": "3.12.10"
  },
  "orig_nbformat": 2
 },
 "nbformat": 4,
 "nbformat_minor": 2
}
